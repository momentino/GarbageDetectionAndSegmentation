{
 "cells": [
  {
   "cell_type": "code",
   "execution_count": 1,
   "id": "8b2d18b6",
   "metadata": {},
   "outputs": [],
   "source": [
    "import os\n",
    "import shutil\n",
    "import numpy as np"
   ]
  },
  {
   "cell_type": "code",
   "execution_count": 2,
   "id": "f036397f",
   "metadata": {},
   "outputs": [],
   "source": [
    "names = []\n",
    "path = \"/home/momentino/Scaricati/archive/garbage classification\"\n",
    "subdirs = [x[0] for x in os.walk(path)]                                                                            \n",
    "for subdir in subdirs:                                                                                            \n",
    "    files = os.walk(subdir).__next__()[2]                                                                             \n",
    "    if (len(files) > 0):                                                                                          \n",
    "        for file in files:    \n",
    "            img_path = os.path.join(subdir,file)\n",
    "            names.append(img_path)\n",
    "names = np.array(names)"
   ]
  },
  {
   "cell_type": "code",
   "execution_count": 3,
   "id": "da91eb9d",
   "metadata": {},
   "outputs": [],
   "source": [
    "np.random.shuffle(names)"
   ]
  },
  {
   "cell_type": "code",
   "execution_count": 4,
   "id": "077c9236",
   "metadata": {},
   "outputs": [
    {
     "name": "stdout",
     "output_type": "stream",
     "text": [
      "3590\n"
     ]
    }
   ],
   "source": [
    "# test = 10% \n",
    "# train = 90%\n",
    "sample_count = names.size\n",
    "split = int(0.90*sample_count)\n",
    "print(sample_count)\n",
    "\n",
    "train = names[:split]\n",
    "test = names[split:]"
   ]
  },
  {
   "cell_type": "markdown",
   "id": "2ad06d4e",
   "metadata": {},
   "source": [
    "## Create train and test folders now"
   ]
  },
  {
   "cell_type": "code",
   "execution_count": 5,
   "id": "47db641d",
   "metadata": {},
   "outputs": [
    {
     "name": "stdout",
     "output_type": "stream",
     "text": [
      "['/home/momentino/Scaricati/archive/garbage classification/Garbage classification/cardboard/cardboard145.jpg'\n",
      " '/home/momentino/Scaricati/archive/garbage classification/Garbage classification/cardboard/cardboard163.jpg'\n",
      " '/home/momentino/Scaricati/archive/garbage classification/Garbage classification/plastic/plastic89.jpg'\n",
      " ...\n",
      " '/home/momentino/Scaricati/archive/garbage classification/Garbage classification/glass/glass23.jpg'\n",
      " '/home/momentino/Scaricati/archive/garbage classification/negative/negative_744.jpg'\n",
      " '/home/momentino/Scaricati/archive/garbage classification/Garbage classification/glass/glass187.jpg']\n"
     ]
    }
   ],
   "source": [
    "subdirs = [x[0] for x in os.walk(path)]    \n",
    "dest1 = \"/home/momentino/Scaricati/archive/train\"\n",
    "dest2 = \"/home/momentino/Scaricati/archive/test\"\n",
    "print(train)\n",
    "for subdir in subdirs:                                                                                            \n",
    "    files = os.walk(subdir).__next__()[2]                                                                             \n",
    "    if (len(files) > 0):                                                                                          \n",
    "        for file in files:    \n",
    "            img_path = os.path.join(subdir,file)\n",
    "            if(img_path in train):\n",
    "                shutil.copy(img_path, dest1)\n",
    "            if(img_path in test):\n",
    "                shutil.copy(img_path, dest2)"
   ]
  },
  {
   "cell_type": "code",
   "execution_count": null,
   "id": "f67b1331",
   "metadata": {},
   "outputs": [],
   "source": []
  }
 ],
 "metadata": {
  "kernelspec": {
   "display_name": "Python 3 (ipykernel)",
   "language": "python",
   "name": "python3"
  },
  "language_info": {
   "codemirror_mode": {
    "name": "ipython",
    "version": 3
   },
   "file_extension": ".py",
   "mimetype": "text/x-python",
   "name": "python",
   "nbconvert_exporter": "python",
   "pygments_lexer": "ipython3",
   "version": "3.10.7"
  }
 },
 "nbformat": 4,
 "nbformat_minor": 5
}
