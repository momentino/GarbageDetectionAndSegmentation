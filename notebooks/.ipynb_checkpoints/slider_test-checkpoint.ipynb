{
 "cells": [
  {
   "cell_type": "code",
   "execution_count": 1,
   "id": "bf12de38",
   "metadata": {},
   "outputs": [
    {
     "name": "stdout",
     "output_type": "stream",
     "text": [
      "['/home/momentino/GarbageDetectionAndSegmentation/notebooks', '/usr/lib64/python310.zip', '/usr/lib64/python3.10', '/usr/lib64/python3.10/lib-dynload', '', '/home/momentino/.local/lib/python3.10/site-packages', '/usr/lib64/python3.10/site-packages', '/usr/lib/python3.10/site-packages']\n"
     ]
    }
   ],
   "source": [
    "import sys\n",
    "\n",
    "print(sys.path)\n",
    "sys.path.append(\"/home/momentino/GarbageDetectionAndSegmentation\")"
   ]
  },
  {
   "cell_type": "code",
   "execution_count": 2,
   "id": "4e11a3bc",
   "metadata": {},
   "outputs": [
    {
     "name": "stdout",
     "output_type": "stream",
     "text": [
      "Defaulting to user installation because normal site-packages is not writeable\r\n",
      "Requirement already satisfied: imutils in /home/momentino/.local/lib/python3.10/site-packages (0.5.4)\r\n"
     ]
    }
   ],
   "source": [
    "!pip install imutils"
   ]
  },
  {
   "cell_type": "code",
   "execution_count": 3,
   "id": "13fba783",
   "metadata": {},
   "outputs": [],
   "source": [
    "import imageio.v3 as iio\n",
    "import joblib\n",
    "\n",
    "import random as rand\n",
    "import numpy as np \n",
    "import cv2\n",
    "import glob\n",
    "import time\n",
    "\n",
    "import matplotlib.pyplot as plt\n",
    "%matplotlib inline\n",
    "\n",
    "from utils import convert, show_images, put_boxes\n",
    "from featuresourcer import FeatureSourcer\n",
    "from binaryclassifier import BinaryClassifier\n",
    "from slider import Slider"
   ]
  },
  {
   "cell_type": "code",
   "execution_count": 4,
   "id": "dae6aa8e",
   "metadata": {},
   "outputs": [],
   "source": [
    "svc = joblib.load('svc.pkl')\n",
    "scaler = joblib.load('scaler.pkl')\n",
    "\n",
    "sourcer_params = {\n",
    "  'color_model': 'hls',                # hls, hsv, yuv, ycrcb\n",
    "  'bounding_box_w': 64,             #\n",
    "  'bounding_box_h' : 48,\n",
    "  'number_of_orientations': 12,        # 6 - 12\n",
    "  'pixels_per_cell': 8,               # 8, 16\n",
    "  'cells_per_block': 2,                # 1, 2\n",
    "  'do_transform_sqrt': True\n",
    "}\n",
    "\n",
    "cls = BinaryClassifier(svc, scaler)\n"
   ]
  },
  {
   "cell_type": "code",
   "execution_count": 5,
   "id": "ecb84c79",
   "metadata": {},
   "outputs": [],
   "source": [
    "def bounding_boxes_test(this_image):\n",
    "    \n",
    "  boxed_images = []\n",
    "  #strips = []\n",
    "  bounding_boxes = slider.locate(image = this_image)\n",
    "  print(\"BOUNDING BOXES \",bounding_boxes)\n",
    "  img = put_boxes(this_image, bounding_boxes) \n",
    "  boxed_images.append(img)\n",
    "  #strips.append(slider.strip())\n",
    "\n",
    "  #show_images(strips, per_row = len(strips), per_col = 1, W = 15, H = 3)\n",
    "  show_images([img], per_row = len(boxed_images), per_col = 1, W = 15, H = 3)"
   ]
  },
  {
   "cell_type": "code",
   "execution_count": null,
   "id": "b3e2a592",
   "metadata": {},
   "outputs": [],
   "source": [
    "#ratio = 0.75\n",
    "#w_h = 48,128,196,512,2048\n",
    "#w_w = int(48/ratio),int(128/ratio),int(196/ratio),int(512/ratio),int(2048/ratio)\n",
    "#starting_y = 0, 0, 0, 0,0,0,0\n",
    "#starting_x = 0, 0, 0, 0,0,0,0\n",
    "#wp = tuple(zip(starting_x, starting_y)) \n",
    "#ws = tuple(zip(w_w, w_h)) \n",
    "\n",
    "#wp = 0,0,0,0,0,0,0\n",
    "\n",
    "test1 = iio.imread(\"/home/momentino/TACO/data/batch_2/000001.JPG\")\n",
    "src = FeatureSourcer(sourcer_params, iio.imread(\"/home/momentino/TACO/data/batch_2/000001.JPG\"))\n",
    "slider = Slider(sourcer = src, classifier = cls, increment = 32)\n",
    "bounding_boxes_test(test1)"
   ]
  },
  {
   "cell_type": "code",
   "execution_count": null,
   "id": "9c595061",
   "metadata": {},
   "outputs": [],
   "source": [
    "test2 = iio.imread(\"/home/momentino/TACO/data/batch_1/000029.jpg\")\n",
    "src = FeatureSourcer(sourcer_params, iio.imread(\"/home/momentino/TACO/data/batch_1/000029.jpg\"))\n",
    "slider = Slider(sourcer = src, classifier = cls, increment = 32)\n",
    "bounding_boxes_test(test2)"
   ]
  },
  {
   "cell_type": "code",
   "execution_count": null,
   "id": "9e781bd1",
   "metadata": {},
   "outputs": [],
   "source": [
    "test3 = iio.imread(\"/home/momentino/TACO/data/batch_1/000043.jpg\")\n",
    "src = FeatureSourcer(sourcer_params, iio.imread(\"/home/momentino/TACO/data/batch_1/000043.jpg\"))\n",
    "slider = Slider(sourcer = src, classifier = cls, increment = 32)\n",
    "bounding_boxes_test(test3)"
   ]
  },
  {
   "cell_type": "code",
   "execution_count": null,
   "id": "ef74ab65",
   "metadata": {},
   "outputs": [],
   "source": []
  }
 ],
 "metadata": {
  "kernelspec": {
   "display_name": "Python 3 (ipykernel)",
   "language": "python",
   "name": "python3"
  },
  "language_info": {
   "codemirror_mode": {
    "name": "ipython",
    "version": 3
   },
   "file_extension": ".py",
   "mimetype": "text/x-python",
   "name": "python",
   "nbconvert_exporter": "python",
   "pygments_lexer": "ipython3",
   "version": "3.10.7"
  }
 },
 "nbformat": 4,
 "nbformat_minor": 5
}
