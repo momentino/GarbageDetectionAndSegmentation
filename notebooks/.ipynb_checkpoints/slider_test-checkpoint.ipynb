{
 "cells": [
  {
   "cell_type": "code",
   "execution_count": 1,
   "id": "bf12de38",
   "metadata": {},
   "outputs": [
    {
     "name": "stdout",
     "output_type": "stream",
     "text": [
      "['/home/momentino/GarbageDetectionAndSegmentation/notebooks', '/usr/lib64/python310.zip', '/usr/lib64/python3.10', '/usr/lib64/python3.10/lib-dynload', '', '/home/momentino/.local/lib/python3.10/site-packages', '/usr/lib64/python3.10/site-packages', '/usr/lib/python3.10/site-packages']\n"
     ]
    }
   ],
   "source": [
    "import sys\n",
    "\n",
    "print(sys.path)\n",
    "sys.path.append(\"/home/momentino/GarbageDetectionAndSegmentation\")"
   ]
  },
  {
   "cell_type": "code",
   "execution_count": 2,
   "id": "4e11a3bc",
   "metadata": {},
   "outputs": [
    {
     "name": "stdout",
     "output_type": "stream",
     "text": [
      "Defaulting to user installation because normal site-packages is not writeable\r\n",
      "Requirement already satisfied: imutils in /home/momentino/.local/lib/python3.10/site-packages (0.5.4)\r\n"
     ]
    }
   ],
   "source": [
    "!pip install imutils"
   ]
  },
  {
   "cell_type": "code",
   "execution_count": 3,
   "id": "13fba783",
   "metadata": {},
   "outputs": [],
   "source": [
    "import imageio.v3 as iio\n",
    "import joblib\n",
    "\n",
    "import random as rand\n",
    "import numpy as np \n",
    "import cv2\n",
    "import glob\n",
    "import time\n",
    "\n",
    "import matplotlib.pyplot as plt\n",
    "%matplotlib inline\n",
    "\n",
    "from utils import convert, show_images, put_boxes\n",
    "from featuresourcer import HogFeatureExtractor, CannyFeatureExtractor\n",
    "from binaryclassifier import BinaryClassifier\n",
    "from slider import Slider"
   ]
  },
  {
   "cell_type": "code",
   "execution_count": 4,
   "id": "74a1af57",
   "metadata": {},
   "outputs": [],
   "source": [
    "features = \"canny\""
   ]
  },
  {
   "cell_type": "code",
   "execution_count": 5,
   "id": "5b8b0e6a",
   "metadata": {},
   "outputs": [],
   "source": [
    "if features == \"canny\":\n",
    "    svc = joblib.load('canny_svc.pkl')\n",
    "    scaler = joblib.load('canny_scaler.pkl')\n",
    "    sourcer_params = {\n",
    "      'color_model': 'hls',                # hls, hsv, yuv, ycrcb\n",
    "      'bounding_box_w': 64,             #\n",
    "      'bounding_box_h' : 48,\n",
    "      'first_thresh': 10,             #\n",
    "      'second_thresh' : 200,\n",
    "    }\n",
    "elif features == \"hog\":\n",
    "    svc = joblib.load('hog_svc.pkl')\n",
    "    scaler = joblib.load('hog_scaler.pkl')\n",
    "    sourcer_params = {\n",
    "      'color_model': 'hls',                # hls, hsv, yuv, ycrcb\n",
    "      'bounding_box_w': 64,             #\n",
    "      'bounding_box_h' : 48,\n",
    "      'number_of_orientations': 12,        # 6 - 12\n",
    "      'pixels_per_cell': 8,               # 8, 16\n",
    "      'cells_per_block': 2,                # 1, 2\n",
    "      'do_transform_sqrt': True\n",
    "    }"
   ]
  },
  {
   "cell_type": "code",
   "execution_count": 6,
   "id": "dae6aa8e",
   "metadata": {},
   "outputs": [],
   "source": [
    "\n",
    "\n",
    "cls = BinaryClassifier(svc, scaler)\n"
   ]
  },
  {
   "cell_type": "code",
   "execution_count": 7,
   "id": "ecb84c79",
   "metadata": {},
   "outputs": [],
   "source": [
    "def bounding_boxes_test(this_image):\n",
    "    \n",
    "  boxed_images = []\n",
    "  #strips = []\n",
    "  bounding_boxes = slider.locate(image = this_image)\n",
    "  print(\"BOUNDING BOXES \",bounding_boxes)\n",
    "  img = put_boxes(this_image, bounding_boxes) \n",
    "  boxed_images.append(img)\n",
    "  #strips.append(slider.strip())\n",
    "\n",
    "  #show_images(strips, per_row = len(strips), per_col = 1, W = 15, H = 3)\n",
    "  show_images([img], per_row = len(boxed_images), per_col = 1, W = 15, H = 3)"
   ]
  },
  {
   "cell_type": "code",
   "execution_count": 8,
   "id": "b3e2a592",
   "metadata": {},
   "outputs": [
    {
     "ename": "AttributeError",
     "evalue": "'CannyFeatureExtractor' object has no attribute 'h'",
     "output_type": "error",
     "traceback": [
      "\u001b[0;31m---------------------------------------------------------------------------\u001b[0m",
      "\u001b[0;31mAttributeError\u001b[0m                            Traceback (most recent call last)",
      "Cell \u001b[0;32mIn[8], line 6\u001b[0m\n\u001b[1;32m      4\u001b[0m \u001b[38;5;28;01melif\u001b[39;00m(features \u001b[38;5;241m==\u001b[39m \u001b[38;5;124m\"\u001b[39m\u001b[38;5;124mhog\u001b[39m\u001b[38;5;124m\"\u001b[39m):\n\u001b[1;32m      5\u001b[0m     src \u001b[38;5;241m=\u001b[39m HogFeatureExtractor(sourcer_params, iio\u001b[38;5;241m.\u001b[39mimread(\u001b[38;5;124m\"\u001b[39m\u001b[38;5;124m/home/momentino/TACO/data/batch_2/000001.JPG\u001b[39m\u001b[38;5;124m\"\u001b[39m))\n\u001b[0;32m----> 6\u001b[0m slider \u001b[38;5;241m=\u001b[39m \u001b[43mSlider\u001b[49m\u001b[43m(\u001b[49m\u001b[43msourcer\u001b[49m\u001b[43m \u001b[49m\u001b[38;5;241;43m=\u001b[39;49m\u001b[43m \u001b[49m\u001b[43msrc\u001b[49m\u001b[43m,\u001b[49m\u001b[43m \u001b[49m\u001b[43mclassifier\u001b[49m\u001b[43m \u001b[49m\u001b[38;5;241;43m=\u001b[39;49m\u001b[43m \u001b[49m\u001b[38;5;28;43mcls\u001b[39;49m\u001b[43m,\u001b[49m\u001b[43m \u001b[49m\u001b[43mincrement\u001b[49m\u001b[43m \u001b[49m\u001b[38;5;241;43m=\u001b[39;49m\u001b[43m \u001b[49m\u001b[38;5;241;43m32\u001b[39;49m\u001b[43m)\u001b[49m\n\u001b[1;32m      7\u001b[0m bounding_boxes_test(test1)\n",
      "File \u001b[0;32m~/GarbageDetectionAndSegmentation/slider.py:14\u001b[0m, in \u001b[0;36mSlider.__init__\u001b[0;34m(self, sourcer, classifier, increment)\u001b[0m\n\u001b[1;32m     12\u001b[0m \u001b[38;5;28mself\u001b[39m\u001b[38;5;241m.\u001b[39mclassifier \u001b[38;5;241m=\u001b[39m classifier\n\u001b[1;32m     13\u001b[0m \u001b[38;5;28mself\u001b[39m\u001b[38;5;241m.\u001b[39mi \u001b[38;5;241m=\u001b[39m increment\n\u001b[0;32m---> 14\u001b[0m \u001b[38;5;28mself\u001b[39m\u001b[38;5;241m.\u001b[39mh \u001b[38;5;241m=\u001b[39m \u001b[43msourcer\u001b[49m\u001b[38;5;241;43m.\u001b[39;49m\u001b[43mh\u001b[49m\n\u001b[1;32m     15\u001b[0m \u001b[38;5;28mself\u001b[39m\u001b[38;5;241m.\u001b[39mw \u001b[38;5;241m=\u001b[39m sourcer\u001b[38;5;241m.\u001b[39mw\n\u001b[1;32m     16\u001b[0m \u001b[38;5;28mself\u001b[39m\u001b[38;5;241m.\u001b[39mcurrent_strip \u001b[38;5;241m=\u001b[39m \u001b[38;5;28;01mNone\u001b[39;00m\n",
      "\u001b[0;31mAttributeError\u001b[0m: 'CannyFeatureExtractor' object has no attribute 'h'"
     ]
    }
   ],
   "source": [
    "test1 = iio.imread(\"/home/momentino/TACO/data/batch_2/000001.JPG\")\n",
    "if(features == \"canny\"):\n",
    "    src = CannyFeatureExtractor(sourcer_params, iio.imread(\"/home/momentino/TACO/data/batch_2/000001.JPG\"))\n",
    "elif(features == \"hog\"):\n",
    "    src = HogFeatureExtractor(sourcer_params, iio.imread(\"/home/momentino/TACO/data/batch_2/000001.JPG\"))\n",
    "slider = Slider(sourcer = src, classifier = cls, increment = 32)\n",
    "bounding_boxes_test(test1)"
   ]
  },
  {
   "cell_type": "code",
   "execution_count": null,
   "id": "9c595061",
   "metadata": {},
   "outputs": [],
   "source": [
    "test2 = iio.imread(\"/home/momentino/TACO/data/batch_1/000029.jpg\")\n",
    "src = HogFeatureExtractor(sourcer_params, iio.imread(\"/home/momentino/TACO/data/batch_1/000029.jpg\"))\n",
    "if(features == \"canny\"):\n",
    "    src = CannyFeatureExtractor(sourcer_params, iio.imread(\"/home/momentino/TACO/data/batch_1/000029.jpg\"))\n",
    "elif(features == \"hog\"):\n",
    "    src = HogFeatureExtractor(sourcer_params, iio.imread(\"/home/momentino/TACO/data/batch_1/000029.jpg\"))\n",
    "slider = Slider(sourcer = src, classifier = cls, increment = 32)\n",
    "bounding_boxes_test(test2)"
   ]
  },
  {
   "cell_type": "code",
   "execution_count": null,
   "id": "9e781bd1",
   "metadata": {},
   "outputs": [],
   "source": [
    "test3 = iio.imread(\"/home/momentino/TACO/data/batch_1/000043.jpg\")\n",
    "if(features == \"canny\"):\n",
    "    src = CannyFeatureExtractor(sourcer_params, iio.imread(\"/home/momentino/TACO/data/batch_1/000043.jpg\"))\n",
    "elif(features == \"hog\"):\n",
    "    src = HogFeatureExtractor(sourcer_params, iio.imread(\"/home/momentino/TACO/data/batch_1/000043.jpg\"))\n",
    "slider = Slider(sourcer = src, classifier = cls, increment = 32)\n",
    "bounding_boxes_test(test3)"
   ]
  },
  {
   "cell_type": "code",
   "execution_count": null,
   "id": "ef74ab65",
   "metadata": {},
   "outputs": [],
   "source": []
  }
 ],
 "metadata": {
  "kernelspec": {
   "display_name": "Python 3 (ipykernel)",
   "language": "python",
   "name": "python3"
  },
  "language_info": {
   "codemirror_mode": {
    "name": "ipython",
    "version": 3
   },
   "file_extension": ".py",
   "mimetype": "text/x-python",
   "name": "python",
   "nbconvert_exporter": "python",
   "pygments_lexer": "ipython3",
   "version": "3.10.7"
  }
 },
 "nbformat": 4,
 "nbformat_minor": 5
}
