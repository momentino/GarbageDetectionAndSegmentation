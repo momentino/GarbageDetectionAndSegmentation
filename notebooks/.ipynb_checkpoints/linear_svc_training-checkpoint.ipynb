{
 "cells": [
  {
   "cell_type": "code",
   "execution_count": 1,
   "id": "1e025bc4",
   "metadata": {},
   "outputs": [
    {
     "name": "stdout",
     "output_type": "stream",
     "text": [
      "['/home/momentino/GarbageDetectionAndSegmentation/notebooks', '/usr/lib64/python310.zip', '/usr/lib64/python3.10', '/usr/lib64/python3.10/lib-dynload', '', '/home/momentino/.local/lib/python3.10/site-packages', '/usr/lib64/python3.10/site-packages', '/usr/lib/python3.10/site-packages']\n"
     ]
    }
   ],
   "source": [
    "import sys\n",
    "\n",
    "print(sys.path)\n",
    "sys.path.append(\"/home/momentino/GarbageDetectionAndSegmentation\")"
   ]
  },
  {
   "cell_type": "code",
   "execution_count": 2,
   "id": "e786658d",
   "metadata": {},
   "outputs": [
    {
     "name": "stdout",
     "output_type": "stream",
     "text": [
      "Defaulting to user installation because normal site-packages is not writeable\n",
      "Requirement already satisfied: sklearn in /home/momentino/.local/lib/python3.10/site-packages (0.0)\n",
      "Requirement already satisfied: scikit-learn in /home/momentino/.local/lib/python3.10/site-packages (from sklearn) (1.2.0)\n",
      "Requirement already satisfied: numpy>=1.17.3 in /usr/lib64/python3.10/site-packages (from scikit-learn->sklearn) (1.22.0)\n",
      "Requirement already satisfied: joblib>=1.1.1 in /home/momentino/.local/lib/python3.10/site-packages (from scikit-learn->sklearn) (1.2.0)\n",
      "Requirement already satisfied: threadpoolctl>=2.0.0 in /home/momentino/.local/lib/python3.10/site-packages (from scikit-learn->sklearn) (3.1.0)\n",
      "Requirement already satisfied: scipy>=1.3.2 in /usr/lib64/python3.10/site-packages (from scikit-learn->sklearn) (1.8.1)\n"
     ]
    }
   ],
   "source": [
    "!pip install sklearn"
   ]
  },
  {
   "cell_type": "code",
   "execution_count": 3,
   "id": "1f9243e1",
   "metadata": {},
   "outputs": [
    {
     "name": "stdout",
     "output_type": "stream",
     "text": [
      "Defaulting to user installation because normal site-packages is not writeable\n",
      "Requirement already satisfied: scikit-image in /home/momentino/.local/lib/python3.10/site-packages (0.19.3)\n",
      "Requirement already satisfied: imageio>=2.4.1 in /home/momentino/.local/lib/python3.10/site-packages (from scikit-image) (2.22.4)\n",
      "Requirement already satisfied: PyWavelets>=1.1.1 in /home/momentino/.local/lib/python3.10/site-packages (from scikit-image) (1.4.1)\n",
      "Requirement already satisfied: networkx>=2.2 in /home/momentino/.local/lib/python3.10/site-packages (from scikit-image) (2.8.8)\n",
      "Requirement already satisfied: tifffile>=2019.7.26 in /home/momentino/.local/lib/python3.10/site-packages (from scikit-image) (2022.10.10)\n",
      "Requirement already satisfied: packaging>=20.0 in /usr/lib/python3.10/site-packages (from scikit-image) (21.3)\n",
      "Requirement already satisfied: numpy>=1.17.0 in /usr/lib64/python3.10/site-packages (from scikit-image) (1.22.0)\n",
      "Requirement already satisfied: pillow!=7.1.0,!=7.1.1,!=8.3.0,>=6.1.0 in /usr/lib64/python3.10/site-packages (from scikit-image) (9.1.0)\n",
      "Requirement already satisfied: scipy>=1.4.1 in /usr/lib64/python3.10/site-packages (from scikit-image) (1.8.1)\n",
      "Requirement already satisfied: pyparsing!=3.0.5,>=2.0.2 in /usr/lib/python3.10/site-packages (from packaging>=20.0->scikit-image) (2.4.7)\n"
     ]
    }
   ],
   "source": [
    "!pip install scikit-image"
   ]
  },
  {
   "cell_type": "code",
   "execution_count": 4,
   "id": "b400da5e",
   "metadata": {},
   "outputs": [],
   "source": [
    "from sklearn.svm import LinearSVC\n",
    "from sklearn.preprocessing import StandardScaler\n",
    "from sklearn.model_selection import train_test_split\n",
    "from skimage.feature import hog\n",
    "from imageio import imread\n",
    "import joblib\n",
    "\n",
    "import random as rand\n",
    "import numpy as np \n",
    "import cv2\n",
    "import glob\n",
    "import time\n",
    "\n",
    "import matplotlib.pyplot as plt\n",
    "%matplotlib inline\n",
    "\n",
    "from utils import convert, show_images\n",
    "from featuresourcer import FeatureSourcer"
   ]
  },
  {
   "cell_type": "code",
   "execution_count": 5,
   "id": "be5e2650",
   "metadata": {},
   "outputs": [
    {
     "name": "stderr",
     "output_type": "stream",
     "text": [
      "/tmp/ipykernel_12366/745326212.py:11: DeprecationWarning: Starting with ImageIO v3 the behavior of this function will switch to that of iio.v3.imread. To keep the current behavior (and make this warning disappear) use `import imageio.v2 as imageio` or call `imageio.v2.imread` directly.\n",
      "  start_frame = imread(\"/home/momentino/Università/Magistrale/SIV/Progetto corso/garbage single images/garbage classification/Garbage classification/cardboard/cardboard1.jpg\")\n"
     ]
    }
   ],
   "source": [
    "sourcer_params = {\n",
    "  'color_model': 'hls',                # hls, hsv, yuv, ycrcb\n",
    "  'bounding_box_w': 64,             #\n",
    "  'bounding_box_h' : 48,\n",
    "  'number_of_orientations': 12,        # 6 - 12\n",
    "  'pixels_per_cell': 8,               # 8, 16\n",
    "  'cells_per_block': 2,                # 1, 2\n",
    "  'do_transform_sqrt': True,\n",
    "}\n",
    "\n",
    "start_frame = imread(\"/home/momentino/Università/Magistrale/SIV/Progetto corso/garbage single images/garbage classification/Garbage classification/cardboard/cardboard1.jpg\")\n",
    "sourcer = FeatureSourcer(sourcer_params, start_frame)"
   ]
  },
  {
   "cell_type": "code",
   "execution_count": 6,
   "id": "0f1db03d",
   "metadata": {},
   "outputs": [
    {
     "name": "stdout",
     "output_type": "stream",
     "text": [
      "Loading images to memory...\n"
     ]
    },
    {
     "name": "stderr",
     "output_type": "stream",
     "text": [
      "/tmp/ipykernel_12366/108249728.py:8: DeprecationWarning: Starting with ImageIO v3 the behavior of this function will switch to that of iio.v3.imread. To keep the current behavior (and make this warning disappear) use `import imageio.v2 as imageio` or call `imageio.v2.imread` directly.\n",
      "  for path in garbage_paths: garbage_imgs.append(imread(path))\n",
      "/tmp/ipykernel_12366/108249728.py:9: DeprecationWarning: Starting with ImageIO v3 the behavior of this function will switch to that of iio.v3.imread. To keep the current behavior (and make this warning disappear) use `import imageio.v2 as imageio` or call `imageio.v2.imread` directly.\n",
      "  for path in nongarbage_paths: nongarbage_imgs.append(imread(path))\n"
     ]
    },
    {
     "name": "stdout",
     "output_type": "stream",
     "text": [
      "... Done\n",
      "Time Taken: 1.45\n",
      "Garbage images shape:  (2522, 48, 64, 3)\n",
      "Non-garbage images shape:  (1068, 48, 64, 3)\n",
      "Extracting features... This might take a while...\n",
      "Garbage...\n",
      "██████████████████████████████████████████████████████████████████████████████████████████████████████████████████████████████████████████████████████████████████████████████████████████████████████████████████████████████████████████████████████████████████████████████████████████████████████████████████████████████████████████████████████████████████████████████████████████████████████████████████████████████████████████████████████████████████████████████████████████████████████████████████████████████████████████████████████████████████████████████████████████████████████████████████████████████████████████████████████████████████████████████████████████████████████████████████████████████████████████████████████████████████████████████████████████████████████████████████████████████████████████████████████████████████████████████████████████████████████████████████████████████████████████████████████████████████████████████████████████████████████████████████████████████████████████████████████████████████████████████████████████████████████████████████████████████████████████████████████████████████████████████████████████████████████████████████████████████████████████████████████████████████████████████████████████████████████████████████████████████████████████████████████████████████████████████████████████████████████████████████████████████████████████████████████████████████████████████████████████████████████████████████████████████████████████████████████████████████████████████████████████████████████████████████████████████████████████████████████████████████████████████████████████████████████████████████████████████████████████████████████████████████████████████████████████████████████████████████████████████████████████████████████████████████████████████████████████████████████████████████████████████████████████████████████████████████████████████████████████████████████████████████████████████████████████████████████████████████████████████████████████████████████████████████████████████████████████████████████████████████████████████████████████████████████████████████████████████████████████████████████████████████████████████████████████████████████████████████████████████████████████████████████████████████████████████████████████████████████████████████████████████████████████████████████████████████████████████████████████████████████████████████████████████████████████████████████████████████████████████████████████████████████████████████████████\n",
      "Non-Garbage...\n",
      "████████████████████████████████████████████████████████████████████████████████████████████████████████████████████████████████████████████████████████████████████████████████████████████████████████████████████████████████████████████████████████████████████████████████████████████████████████████████████████████████████████████████████████████████████████████████████████████████████████████████████████████████████████████████████████████████████████████████████████████████████████████████████████████████████████████████████████████████████████████████████████████████████████████████████████████████████████████████████████████████████████████████████████████████████████████████████████████████████████████████████████████████████████████████████████████████████████████████████████████████████████████████████████████████████████████████████████████████████████████████████████████████████████████████████████████████████████████████████████████████████████████████████████████████████████████████████████████████████████████████████████████████████████████\n",
      "...Done\n",
      "Time Taken: 85.08\n",
      "Garbage features shape:  (2522, 5040)\n",
      "Non-Garbage features shape:  (1068, 5040)\n",
      "Scaling features...\n",
      "...Done\n",
      "Time Taken: 0.64\n",
      " x shape:  (3590, 5040)  y shape:  (3590,)\n",
      "Training classifier...\n",
      "...Done\n",
      "Time Taken: 1.93\n",
      "Accuracy:  0.8844\n"
     ]
    }
   ],
   "source": [
    "print(\"Loading images to memory...\")\n",
    "t_start = time.time()\n",
    "\n",
    "garbage_imgs, nongarbage_imgs = [], []\n",
    "garbage_paths = glob.glob('/home/momentino/Scaricati/archive/garbage classification/Garbage classification/*/*.jpg')\n",
    "nongarbage_paths = glob.glob('/home/momentino/Scaricati/archive/garbage classification/negative/*.jpg')\n",
    "\n",
    "for path in garbage_paths: garbage_imgs.append(imread(path))\n",
    "for path in nongarbage_paths: nongarbage_imgs.append(imread(path))\n",
    "\n",
    "garbage_imgs, nongarbage_imgs = np.asarray(garbage_imgs), np.asarray(nongarbage_imgs)\n",
    "total_garbage, total_nongarbage = garbage_imgs.shape[0], nongarbage_imgs.shape[0]\n",
    "\n",
    "print(\"... Done\")\n",
    "print(\"Time Taken:\", np.round(time.time() - t_start, 2))\n",
    "print(\"Garbage images shape: \", garbage_imgs.shape)\n",
    "print(\"Non-garbage images shape: \", nongarbage_imgs.shape)\n",
    "\n",
    "print(\"Extracting features... This might take a while...\")\n",
    "t_start = time.time()\n",
    "\n",
    "garbage_features, nongarbage_features = [], []\n",
    "\n",
    "print(\"Garbage...\")\n",
    "for img in garbage_imgs:\n",
    "  garbage_features.append(sourcer.features(img))\n",
    "  print('█', end = '')\n",
    "\n",
    "print()\n",
    "print(\"Non-Garbage...\")\n",
    "for img in nongarbage_imgs:\n",
    "  nongarbage_features.append(sourcer.features(img))\n",
    "  print('█', end = '')\n",
    "                         \n",
    "garbage_features = np.asarray(garbage_features)\n",
    "nongarbage_features = np.asarray(nongarbage_features)\n",
    "\n",
    "print()\n",
    "print(\"...Done\")\n",
    "print(\"Time Taken:\", np.round(time.time() - t_start, 2))\n",
    "print(\"Garbage features shape: \", garbage_features.shape)\n",
    "print(\"Non-Garbage features shape: \", nongarbage_features.shape)\n",
    "\n",
    "print(\"Scaling features...\")\n",
    "t_start = time.time()\n",
    "\n",
    "unscaled_x = np.vstack((garbage_features, nongarbage_features)).astype(np.float64)\n",
    "scaler = StandardScaler().fit(unscaled_x)\n",
    "x = scaler.transform(unscaled_x)\n",
    "y = np.hstack((np.ones(total_garbage), np.zeros(total_nongarbage)))\n",
    "\n",
    "print(\"...Done\")\n",
    "print(\"Time Taken:\", np.round(time.time() - t_start, 2))\n",
    "print(\" x shape: \", x.shape, \" y shape: \", y.shape)\n",
    "\n",
    "print(\"Training classifier...\")\n",
    "t_start = time.time()\n",
    "\n",
    "x_train, x_test, y_train, y_test = train_test_split(x, y, test_size = 0.2,\n",
    "                                                    random_state = rand.randint(1, 100))\n",
    "svc = LinearSVC()\n",
    "svc.fit(x_train, y_train)\n",
    "accuracy = svc.score(x_test, y_test)\n",
    "\n",
    "print(\"...Done\")\n",
    "print(\"Time Taken:\", np.round(time.time() - t_start, 2))\n",
    "print(\"Accuracy: \", np.round(accuracy, 4))"
   ]
  },
  {
   "cell_type": "code",
   "execution_count": 7,
   "id": "7ccccb64",
   "metadata": {},
   "outputs": [
    {
     "ename": "IndexError",
     "evalue": "index 1537 is out of bounds for axis 0 with size 1068",
     "output_type": "error",
     "traceback": [
      "\u001b[0;31m---------------------------------------------------------------------------\u001b[0m",
      "\u001b[0;31mIndexError\u001b[0m                                Traceback (most recent call last)",
      "Cell \u001b[0;32mIn[7], line 6\u001b[0m\n\u001b[1;32m      4\u001b[0m f2 \u001b[38;5;241m=\u001b[39m sourcer\u001b[38;5;241m.\u001b[39mfeatures(garbage_imgs[rand\u001b[38;5;241m.\u001b[39mrandint(\u001b[38;5;241m0\u001b[39m, total_garbage)])\n\u001b[1;32m      5\u001b[0m f3 \u001b[38;5;241m=\u001b[39m sourcer\u001b[38;5;241m.\u001b[39mfeatures(garbage_imgs[rand\u001b[38;5;241m.\u001b[39mrandint(\u001b[38;5;241m0\u001b[39m, total_garbage)])\n\u001b[0;32m----> 6\u001b[0m f4 \u001b[38;5;241m=\u001b[39m sourcer\u001b[38;5;241m.\u001b[39mfeatures(\u001b[43mnongarbage_imgs\u001b[49m\u001b[43m[\u001b[49m\u001b[43mrand\u001b[49m\u001b[38;5;241;43m.\u001b[39;49m\u001b[43mrandint\u001b[49m\u001b[43m(\u001b[49m\u001b[38;5;241;43m0\u001b[39;49m\u001b[43m,\u001b[49m\u001b[43m \u001b[49m\u001b[43mtotal_garbage\u001b[49m\u001b[43m)\u001b[49m\u001b[43m]\u001b[49m)\n\u001b[1;32m      8\u001b[0m f \u001b[38;5;241m=\u001b[39m scaler\u001b[38;5;241m.\u001b[39mtransform([f1, f2, f3, f4])\n\u001b[1;32m      9\u001b[0m \u001b[38;5;28mprint\u001b[39m(svc\u001b[38;5;241m.\u001b[39mpredict(f))\n",
      "\u001b[0;31mIndexError\u001b[0m: index 1537 is out of bounds for axis 0 with size 1068"
     ]
    }
   ],
   "source": [
    "sourcer = FeatureSourcer(sourcer_params, start_frame)\n",
    "\n",
    "f1 = sourcer.features(nongarbage_imgs[rand.randint(0, total_nongarbage)])\n",
    "f2 = sourcer.features(garbage_imgs[rand.randint(0, total_garbage)])\n",
    "f3 = sourcer.features(garbage_imgs[rand.randint(0, total_garbage)])\n",
    "f4 = sourcer.features(nongarbage_imgs[rand.randint(0, total_garbage)])\n",
    "\n",
    "f = scaler.transform([f1, f2, f3, f4])\n",
    "print(svc.predict(f))"
   ]
  },
  {
   "cell_type": "code",
   "execution_count": null,
   "id": "b0a40213",
   "metadata": {},
   "outputs": [],
   "source": [
    "print (\"Saving models...\")\n",
    "\n",
    "joblib.dump(svc, 'svc.pkl')\n",
    "joblib.dump(scaler, 'scaler.pkl')\n",
    "\n",
    "print(\"...Done\")"
   ]
  },
  {
   "cell_type": "code",
   "execution_count": null,
   "id": "79739585",
   "metadata": {},
   "outputs": [],
   "source": [
    "print (\"Loading models...\")\n",
    "\n",
    "svc = joblib.load('svc.pkl')\n",
    "scaler = joblib.load('scaler.pkl')\n",
    "\n",
    "print(\"...Done\")"
   ]
  },
  {
   "cell_type": "code",
   "execution_count": null,
   "id": "d717354c",
   "metadata": {},
   "outputs": [],
   "source": [
    "sourcer = FeatureSourcer(sourcer_params, start_frame)\n",
    "\n",
    "f1 = sourcer.features(nongarbage_imgs[rand.randint(0, total_nongarbage)])\n",
    "f2 = sourcer.features(garbage_imgs[rand.randint(0, total_garbage)])\n",
    "f3 = sourcer.features(garbage_imgs[rand.randint(0, total_garbage)])\n",
    "f4 = sourcer.features(nongarbage_imgs[rand.randint(0, total_nongarbage)])\n",
    "\n",
    "f = scaler.transform([f1, f2, f3, f4])\n",
    "print(svc.predict(f))"
   ]
  }
 ],
 "metadata": {
  "kernelspec": {
   "display_name": "Python 3 (ipykernel)",
   "language": "python",
   "name": "python3"
  },
  "language_info": {
   "codemirror_mode": {
    "name": "ipython",
    "version": 3
   },
   "file_extension": ".py",
   "mimetype": "text/x-python",
   "name": "python",
   "nbconvert_exporter": "python",
   "pygments_lexer": "ipython3",
   "version": "3.10.7"
  }
 },
 "nbformat": 4,
 "nbformat_minor": 5
}
