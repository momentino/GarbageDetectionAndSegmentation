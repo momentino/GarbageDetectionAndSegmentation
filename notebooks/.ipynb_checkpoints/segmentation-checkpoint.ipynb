{
 "cells": [
  {
   "cell_type": "code",
   "execution_count": 1,
   "id": "d534baf5",
   "metadata": {},
   "outputs": [
    {
     "name": "stdout",
     "output_type": "stream",
     "text": [
      "['/home/momentino/GarbageDetectionAndSegmentation/notebooks', '/usr/lib64/python310.zip', '/usr/lib64/python3.10', '/usr/lib64/python3.10/lib-dynload', '', '/home/momentino/.local/lib/python3.10/site-packages', '/usr/lib64/python3.10/site-packages', '/usr/lib/python3.10/site-packages']\n"
     ]
    }
   ],
   "source": [
    "import sys\n",
    "\n",
    "print(sys.path)\n",
    "sys.path.append(\"/home/momentino/GarbageDetectionAndSegmentation\")"
   ]
  },
  {
   "cell_type": "code",
   "execution_count": 2,
   "id": "0babac0d",
   "metadata": {},
   "outputs": [],
   "source": [
    "import imageio.v3 as iio\n",
    "import joblib\n",
    "\n",
    "import random as rand\n",
    "import numpy as np \n",
    "import cv2\n",
    "import glob\n",
    "import time\n",
    "\n",
    "import matplotlib.pyplot as plt\n",
    "%matplotlib inline\n",
    "\n",
    "from utils import convert, show_images, put_boxes, box_boundaries\n",
    "from featuresourcer import FeatureSourcer\n",
    "from binaryclassifier import BinaryClassifier\n",
    "from slider import Slider\n",
    "from heatmap import HeatMap \n",
    "from segmenter import WatershedSegmenter"
   ]
  },
  {
   "cell_type": "code",
   "execution_count": 3,
   "id": "7b821f29",
   "metadata": {},
   "outputs": [],
   "source": [
    "svc = joblib.load('svc.pkl')\n",
    "scaler = joblib.load('scaler.pkl')\n",
    "\n",
    "sourcer_params = {\n",
    "  'color_model': 'hls',                # hls, hsv, yuv, ycrcb\n",
    "  'bounding_box_h': 48,             #\n",
    "  'bounding_box_w': 64,\n",
    "  'number_of_orientations': 12,        # 6 - 12\n",
    "  'pixels_per_cell': 8,               # 8, 16\n",
    "  'cells_per_block': 2,                # 1, 2\n",
    "  'do_transform_sqrt': True\n",
    "}\n",
    "\n",
    "cls = BinaryClassifier(svc, scaler)\n",
    "src = FeatureSourcer(sourcer_params, iio.imread(\"/home/momentino/TACO/data/batch_3/IMG_4868.JPG\"))\n",
    "slider = Slider(sourcer = src, classifier = cls, increment = 32)\n",
    "\n",
    "img1 = iio.imread(\"/home/momentino/TACO/data/batch_3/IMG_4868.JPG\")\n",
    "\n",
    "heatmap = HeatMap(frame = img1, thresh = 6, memory = 4)\n"
   ]
  },
  {
   "cell_type": "code",
   "execution_count": 4,
   "id": "2ccbd9af",
   "metadata": {},
   "outputs": [],
   "source": [
    "def heatmap_test(image, this_heatmap):\n",
    "  this_heatmap.reset()\n",
    "\n",
    "  bounding_boxes = slider.locate(image = image)\n",
    "  this_heatmap.update(bounding_boxes)\n",
    "  this_heatmap.show(image)"
   ]
  },
  {
   "cell_type": "code",
   "execution_count": null,
   "id": "b4cd54a0",
   "metadata": {},
   "outputs": [
    {
     "name": "stdout",
     "output_type": "stream",
     "text": [
      "iteration  0\n",
      "image dim (3264, 2448, 3)\n",
      "STEP SIZE  32\n",
      "iteration  1\n",
      "image dim (2176, 1632, 3)\n",
      "STEP SIZE  21\n"
     ]
    }
   ],
   "source": [
    "heatmap_test(img1, heatmap)"
   ]
  },
  {
   "cell_type": "code",
   "execution_count": null,
   "id": "713b7fb8",
   "metadata": {},
   "outputs": [],
   "source": [
    "object_proposals = heatmap.get_final_bounding_boxes()\n",
    "print(object_proposals)"
   ]
  },
  {
   "cell_type": "code",
   "execution_count": null,
   "id": "44f15aa7",
   "metadata": {},
   "outputs": [],
   "source": [
    "segmenter = WatershedSegmenter(img1, object_proposals)\n",
    "show_images([img1], per_row = len(object_proposals), per_col = 1, W = 15, H = 3)\n",
    "segmented_object_proposals = segmenter.segment_object_proposals()\n",
    "show_images([segmented_object_proposals[0]], per_row = len(object_proposals), per_col = 1, W = 15, H = 3)\n",
    "final_image= segmenter.build_final_image(segmented_object_proposals)\n",
    "show_images([final_image], per_row = len(object_proposals), per_col = 1, W = 15, H = 3)"
   ]
  },
  {
   "cell_type": "code",
   "execution_count": null,
   "id": "ec6ae145",
   "metadata": {},
   "outputs": [],
   "source": []
  },
  {
   "cell_type": "code",
   "execution_count": null,
   "id": "1223fa44",
   "metadata": {},
   "outputs": [],
   "source": []
  }
 ],
 "metadata": {
  "kernelspec": {
   "display_name": "Python 3 (ipykernel)",
   "language": "python",
   "name": "python3"
  },
  "language_info": {
   "codemirror_mode": {
    "name": "ipython",
    "version": 3
   },
   "file_extension": ".py",
   "mimetype": "text/x-python",
   "name": "python",
   "nbconvert_exporter": "python",
   "pygments_lexer": "ipython3",
   "version": "3.10.7"
  }
 },
 "nbformat": 4,
 "nbformat_minor": 5
}
