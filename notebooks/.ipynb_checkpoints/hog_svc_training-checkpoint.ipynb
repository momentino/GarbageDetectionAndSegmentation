{
 "cells": [
  {
   "cell_type": "code",
   "execution_count": 1,
   "id": "1e025bc4",
   "metadata": {},
   "outputs": [
    {
     "name": "stdout",
     "output_type": "stream",
     "text": [
      "['/home/filippo/GarbageDetectionAndSegmentation/notebooks', '/home/filippo/anaconda3/envs/siv_regular/lib/python310.zip', '/home/filippo/anaconda3/envs/siv_regular/lib/python3.10', '/home/filippo/anaconda3/envs/siv_regular/lib/python3.10/lib-dynload', '', '/home/filippo/.local/lib/python3.10/site-packages', '/home/filippo/anaconda3/envs/siv_regular/lib/python3.10/site-packages']\n"
     ]
    }
   ],
   "source": [
    "import sys\n",
    "\n",
    "print(sys.path)\n",
    "sys.path.append(\"../\")"
   ]
  },
  {
   "cell_type": "code",
   "execution_count": 2,
   "id": "e786658d",
   "metadata": {},
   "outputs": [
    {
     "name": "stdout",
     "output_type": "stream",
     "text": [
      "Requirement already satisfied: sklearn in /home/filippo/.local/lib/python3.10/site-packages (0.0.post1)\r\n"
     ]
    }
   ],
   "source": [
    "!pip install sklearn"
   ]
  },
  {
   "cell_type": "code",
   "execution_count": 3,
   "id": "1f9243e1",
   "metadata": {},
   "outputs": [
    {
     "name": "stdout",
     "output_type": "stream",
     "text": [
      "Requirement already satisfied: scikit-image in /home/filippo/.local/lib/python3.10/site-packages (0.19.3)\n",
      "Requirement already satisfied: networkx>=2.2 in /home/filippo/.local/lib/python3.10/site-packages (from scikit-image) (2.8.8)\n",
      "Requirement already satisfied: numpy>=1.17.0 in /home/filippo/.local/lib/python3.10/site-packages (from scikit-image) (1.24.1)\n",
      "Requirement already satisfied: packaging>=20.0 in /home/filippo/anaconda3/envs/siv_regular/lib/python3.10/site-packages (from scikit-image) (22.0)\n",
      "Requirement already satisfied: pillow!=7.1.0,!=7.1.1,!=8.3.0,>=6.1.0 in /home/filippo/anaconda3/envs/siv_regular/lib/python3.10/site-packages (from scikit-image) (9.4.0)\n",
      "Requirement already satisfied: scipy>=1.4.1 in /home/filippo/.local/lib/python3.10/site-packages (from scikit-image) (1.9.3)\n",
      "Requirement already satisfied: imageio>=2.4.1 in /home/filippo/.local/lib/python3.10/site-packages (from scikit-image) (2.23.0)\n",
      "Requirement already satisfied: PyWavelets>=1.1.1 in /home/filippo/.local/lib/python3.10/site-packages (from scikit-image) (1.4.1)\n",
      "Requirement already satisfied: tifffile>=2019.7.26 in /home/filippo/.local/lib/python3.10/site-packages (from scikit-image) (2022.10.10)\n"
     ]
    }
   ],
   "source": [
    "!pip install scikit-image"
   ]
  },
  {
   "cell_type": "code",
   "execution_count": 4,
   "id": "b400da5e",
   "metadata": {},
   "outputs": [],
   "source": [
    "from sklearn.svm import LinearSVC\n",
    "from sklearn.preprocessing import StandardScaler\n",
    "from sklearn.model_selection import train_test_split\n",
    "from skimage.feature import hog\n",
    "import imageio.v3 as iio\n",
    "import joblib\n",
    "\n",
    "import random as rand\n",
    "import numpy as np \n",
    "import cv2\n",
    "import glob\n",
    "import time\n",
    "import random\n",
    "\n",
    "import matplotlib.pyplot as plt\n",
    "%matplotlib inline\n",
    "\n",
    "from utils import convert, show_images\n",
    "from featuresourcer import HogFeatureExtractor"
   ]
  },
  {
   "cell_type": "code",
   "execution_count": 5,
   "id": "be5e2650",
   "metadata": {},
   "outputs": [],
   "source": [
    "sourcer_params = {\n",
    "  'color_model': 'hls',                # hls, hsv, yuv, ycrcb\n",
    "  'bounding_box_w': 64,             #\n",
    "  'bounding_box_h' : 48,\n",
    "  'number_of_orientations': 12,        # 6 - 12\n",
    "  'pixels_per_cell': 8,               # 8, 16\n",
    "  'cells_per_block': 2,                # 1, 2\n",
    "  'do_transform_sqrt': True,\n",
    "}\n",
    "\n",
    "start_frame = iio.imread(\"../data/train/positive/paper/paper1.jpg\")\n",
    "sourcer = HogFeatureExtractor(sourcer_params, start_frame)"
   ]
  },
  {
   "cell_type": "code",
   "execution_count": 6,
   "id": "0f1db03d",
   "metadata": {},
   "outputs": [
    {
     "name": "stdout",
     "output_type": "stream",
     "text": [
      "Loading images to memory...\n"
     ]
    },
    {
     "ename": "TypeError",
     "evalue": "'NoneType' object is not subscriptable",
     "output_type": "error",
     "traceback": [
      "\u001b[0;31m---------------------------------------------------------------------------\u001b[0m",
      "\u001b[0;31mTypeError\u001b[0m                                 Traceback (most recent call last)",
      "Cell \u001b[0;32mIn[6], line 10\u001b[0m\n\u001b[1;32m      8\u001b[0m \u001b[38;5;28;01mfor\u001b[39;00m path \u001b[38;5;129;01min\u001b[39;00m garbage_paths: garbage_imgs\u001b[38;5;241m.\u001b[39mappend(iio\u001b[38;5;241m.\u001b[39mimread(path))\n\u001b[1;32m      9\u001b[0m \u001b[38;5;28;01mfor\u001b[39;00m path \u001b[38;5;129;01min\u001b[39;00m nongarbage_paths: nongarbage_imgs\u001b[38;5;241m.\u001b[39mappend(iio\u001b[38;5;241m.\u001b[39mimread(path))\n\u001b[0;32m---> 10\u001b[0m nongarbage_imgs \u001b[38;5;241m=\u001b[39m \u001b[43m(\u001b[49m\u001b[43mrandom\u001b[49m\u001b[38;5;241;43m.\u001b[39;49m\u001b[43mshuffle\u001b[49m\u001b[43m(\u001b[49m\u001b[43mnongarbage_imgs\u001b[49m\u001b[43m)\u001b[49m\u001b[43m)\u001b[49m\u001b[43m[\u001b[49m\u001b[43m:\u001b[49m\u001b[38;5;241;43m20000\u001b[39;49m\u001b[43m]\u001b[49m\n\u001b[1;32m     12\u001b[0m garbage_imgs, nongarbage_imgs \u001b[38;5;241m=\u001b[39m np\u001b[38;5;241m.\u001b[39masarray(garbage_imgs), np\u001b[38;5;241m.\u001b[39masarray(nongarbage_imgs)\n\u001b[1;32m     13\u001b[0m total_garbage, total_nongarbage \u001b[38;5;241m=\u001b[39m garbage_imgs\u001b[38;5;241m.\u001b[39mshape[\u001b[38;5;241m0\u001b[39m], nongarbage_imgs\u001b[38;5;241m.\u001b[39mshape[\u001b[38;5;241m0\u001b[39m]\n",
      "\u001b[0;31mTypeError\u001b[0m: 'NoneType' object is not subscriptable"
     ]
    }
   ],
   "source": [
    "print(\"Loading images to memory...\")\n",
    "t_start = time.time()\n",
    "\n",
    "garbage_imgs, nongarbage_imgs = [], []\n",
    "garbage_paths = glob.glob('../data/train/positive/*/*.jpg')\n",
    "nongarbage_paths = glob.glob('../data/train/negative/*/*.jpg')\n",
    "\n",
    "for path in garbage_paths: garbage_imgs.append(iio.imread(path))\n",
    "for path in nongarbage_paths: nongarbage_imgs.append(iio.imread(path))\n",
    "nongarbage_imgs = (random.shuffle(nongarbage_imgs))[:20000]\n",
    "\n",
    "garbage_imgs, nongarbage_imgs = np.asarray(garbage_imgs), np.asarray(nongarbage_imgs)\n",
    "total_garbage, total_nongarbage = garbage_imgs.shape[0], nongarbage_imgs.shape[0]\n",
    "\n",
    "print(\"... Done\")\n",
    "print(\"Time Taken:\", np.round(time.time() - t_start, 2))\n",
    "print(\"Garbage images shape: \", garbage_imgs.shape)\n",
    "print(\"Non-garbage images shape: \", nongarbage_imgs.shape)\n",
    "\n",
    "print(\"Extracting features... This might take a while...\")\n",
    "t_start = time.time()\n",
    "\n",
    "garbage_features, nongarbage_features = [], []\n",
    "\n",
    "print(\"Garbage...\")\n",
    "for img in garbage_imgs:\n",
    "  garbage_features.append(sourcer.features(img))\n",
    "  print('█', end = '')\n",
    "\n",
    "print()\n",
    "print(\"Non-Garbage...\")\n",
    "for img in nongarbage_imgs:\n",
    "  nongarbage_features.append(sourcer.features(img))\n",
    "  print('█', end = '')\n",
    "                         \n",
    "garbage_features = np.asarray(garbage_features)\n",
    "nongarbage_features = np.asarray(nongarbage_features)\n",
    "\n",
    "print()\n",
    "print(\"...Done\")\n",
    "print(\"Time Taken:\", np.round(time.time() - t_start, 2))\n",
    "print(\"Garbage features shape: \", garbage_features.shape)\n",
    "print(\"Non-Garbage features shape: \", nongarbage_features.shape)\n",
    "\n",
    "print(\"Scaling features...\")\n",
    "t_start = time.time()\n",
    "print(\" GARBAGE SHAPE \",garbage_features.dtype)\n",
    "print(\" NONGARBAGE SHAPE \", nongarbage_features.dtype)\n",
    "unscaled_x = np.vstack((garbage_features, nongarbage_features)).astype(np.float64)\n",
    "scaler = StandardScaler().fit(unscaled_x)\n",
    "x = scaler.transform(unscaled_x)\n",
    "y = np.hstack((np.ones(total_garbage), np.zeros(total_nongarbage)))\n",
    "\n",
    "print(\"...Done\")\n",
    "print(\"Time Taken:\", np.round(time.time() - t_start, 2))\n",
    "print(\" x shape: \", x.shape, \" y shape: \", y.shape)\n",
    "\n",
    "print(\"Training classifier...\")\n",
    "t_start = time.time()\n",
    "\n",
    "x_train, x_test, y_train, y_test = train_test_split(x, y, test_size = 0.2,\n",
    "                                                    random_state = rand.randint(1, 100))\n",
    "svc = LinearSVC()\n",
    "svc.fit(x_train, y_train)\n",
    "accuracy = svc.score(x_test, y_test)\n",
    "\n",
    "print(\"...Done\")\n",
    "print(\"Time Taken:\", np.round(time.time() - t_start, 2))\n",
    "print(\"Accuracy: \", np.round(accuracy, 4))"
   ]
  },
  {
   "cell_type": "code",
   "execution_count": null,
   "id": "b0a40213",
   "metadata": {},
   "outputs": [],
   "source": [
    "print (\"Saving models...\")\n",
    "\n",
    "joblib.dump(svc, '../saved_models/hog_svc.pkl')\n",
    "joblib.dump(scaler, '../saved_models/hog_scaler.pkl')\n",
    "\n",
    "print(\"...Done\")"
   ]
  },
  {
   "cell_type": "code",
   "execution_count": null,
   "id": "79739585",
   "metadata": {},
   "outputs": [],
   "source": [
    "print (\"Loading models...\")\n",
    "\n",
    "svc = joblib.load('../saved_models/hog_svc.pkl')\n",
    "scaler = joblib.load('../saved_models/hog_scaler.pkl')\n",
    "\n",
    "print(\"...Done\")"
   ]
  },
  {
   "cell_type": "code",
   "execution_count": null,
   "id": "d717354c",
   "metadata": {},
   "outputs": [],
   "source": [
    "sourcer = HogFeatureExtractor(sourcer_params, start_frame)\n",
    "\n",
    "f1 = sourcer.features(nongarbage_imgs[rand.randint(0, total_nongarbage)])\n",
    "f2 = sourcer.features(garbage_imgs[rand.randint(0, total_garbage)])\n",
    "f3 = sourcer.features(garbage_imgs[rand.randint(0, total_garbage)])\n",
    "f4 = sourcer.features(nongarbage_imgs[rand.randint(0, total_nongarbage)])\n",
    "\n",
    "f = scaler.transform([f1, f2, f3, f4])\n",
    "print(svc.predict(f))"
   ]
  }
 ],
 "metadata": {
  "kernelspec": {
   "display_name": "Python 3 (ipykernel)",
   "language": "python",
   "name": "python3"
  },
  "language_info": {
   "codemirror_mode": {
    "name": "ipython",
    "version": 3
   },
   "file_extension": ".py",
   "mimetype": "text/x-python",
   "name": "python",
   "nbconvert_exporter": "python",
   "pygments_lexer": "ipython3",
   "version": "3.10.8"
  }
 },
 "nbformat": 4,
 "nbformat_minor": 5
}
