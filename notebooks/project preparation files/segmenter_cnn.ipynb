{
 "cells": [
  {
   "cell_type": "code",
   "execution_count": 1,
   "id": "efcd919e",
   "metadata": {},
   "outputs": [
    {
     "name": "stdout",
     "output_type": "stream",
     "text": [
      "['/home/momentino/GarbageDetectionAndSegmentation/notebooks', '/usr/lib64/python310.zip', '/usr/lib64/python3.10', '/usr/lib64/python3.10/lib-dynload', '', '/home/momentino/.local/lib/python3.10/site-packages', '/usr/lib64/python3.10/site-packages', '/usr/lib/python3.10/site-packages']\n"
     ]
    }
   ],
   "source": [
    "import sys\n",
    "import numpy as np\n",
    "import matplotlib\n",
    "import matplotlib.pyplot as plt\n",
    "\n",
    "print(sys.path)\n",
    "sys.path.append(\"/home/momentino/GarbageDetectionAndSegmentation\")"
   ]
  },
  {
   "cell_type": "markdown",
   "id": "47b4df30",
   "metadata": {},
   "source": [
    "# Load Dataset"
   ]
  },
  {
   "cell_type": "code",
   "execution_count": 2,
   "id": "e163ad80",
   "metadata": {},
   "outputs": [
    {
     "name": "stderr",
     "output_type": "stream",
     "text": [
      "2022-12-31 11:21:42.086301: I tensorflow/core/platform/cpu_feature_guard.cc:193] This TensorFlow binary is optimized with oneAPI Deep Neural Network Library (oneDNN) to use the following CPU instructions in performance-critical operations:  AVX2 FMA\n",
      "To enable them in other operations, rebuild TensorFlow with the appropriate compiler flags.\n",
      "2022-12-31 11:21:42.243949: W tensorflow/compiler/xla/stream_executor/platform/default/dso_loader.cc:64] Could not load dynamic library 'libcudart.so.11.0'; dlerror: libcudart.so.11.0: cannot open shared object file: No such file or directory\n",
      "2022-12-31 11:21:42.243971: I tensorflow/compiler/xla/stream_executor/cuda/cudart_stub.cc:29] Ignore above cudart dlerror if you do not have a GPU set up on your machine.\n",
      "2022-12-31 11:21:42.984763: W tensorflow/compiler/xla/stream_executor/platform/default/dso_loader.cc:64] Could not load dynamic library 'libnvinfer.so.7'; dlerror: libnvinfer.so.7: cannot open shared object file: No such file or directory\n",
      "2022-12-31 11:21:42.984845: W tensorflow/compiler/xla/stream_executor/platform/default/dso_loader.cc:64] Could not load dynamic library 'libnvinfer_plugin.so.7'; dlerror: libnvinfer_plugin.so.7: cannot open shared object file: No such file or directory\n",
      "2022-12-31 11:21:42.984855: W tensorflow/compiler/tf2tensorrt/utils/py_utils.cc:38] TF-TRT Warning: Cannot dlopen some TensorRT libraries. If you would like to use Nvidia GPU with TensorRT, please make sure the missing libraries mentioned above are installed properly.\n"
     ]
    },
    {
     "name": "stdout",
     "output_type": "stream",
     "text": [
      "creating index...\n",
      "index created!\n",
      "Number of images used: 1500\n",
      "Class Count: 2\n",
      "  0. BG                                                \n",
      "  1. Litter                                            \n",
      "  Categories  Number of annotations\n",
      "1     Litter                   4784\n",
      "0         BG                      0\n"
     ]
    },
    {
     "name": "stderr",
     "output_type": "stream",
     "text": [
      "/tmp/ipykernel_6405/1330171017.py:42: FutureWarning: In a future version of pandas all arguments of DataFrame.sort_values except for the argument 'by' will be keyword-only.\n",
      "  df = df.sort_values('Number of annotations', 0, False)\n"
     ]
    },
    {
     "data": {
      "image/png": "[encoded data removed]",
      "text/plain": [
       "<Figure size 500x200 with 1 Axes>"
      ]
     },
     "metadata": {},
     "output_type": "display_data"
    }
   ],
   "source": [
    "import csv\n",
    "import dataset\n",
    "\n",
    "# Load class map - these tables map the original TACO classes to your desired class system\n",
    "# and allow you to discard classes that you don't want to include.\n",
    "class_map = {}\n",
    "with open(\"/home/momentino/TACO/detector/taco_config/map_1.csv\") as csvfile:\n",
    "    reader = csv.reader(csvfile)\n",
    "    class_map = {row[0]:row[1] for row in reader}\n",
    "\n",
    "# Load full dataset or a subset\n",
    "TACO_DIR = \"/home/momentino/TACO/data\"\n",
    "round = None # Split number: If None, loads full dataset else if int > 0 selects split no \n",
    "subset = \"train\" # Used only when round !=None, Options: ('train','val','test') to select respective subset\n",
    "dataset = dataset.Taco()\n",
    "taco = dataset.load_taco(TACO_DIR, round, subset, class_map=class_map, return_taco=True)\n",
    "\n",
    "# Must call before using the dataset\n",
    "dataset.prepare()\n",
    "\n",
    "print(\"Class Count: {}\".format(dataset.num_classes))\n",
    "for i, info in enumerate(dataset.class_info):\n",
    "    print(\"{:3}. {:50}\".format(i, info['name']))\n",
    "    \n",
    "import seaborn as sns\n",
    "import pandas as pd\n",
    "\n",
    "# Count annotations\n",
    "cat_histogram = np.zeros(dataset.num_classes,dtype=int)\n",
    "class_names = []\n",
    "for i, info in enumerate(dataset.class_info):\n",
    "    ann_per_cat = taco.getAnnIds(catIds=i, iscrowd=None)\n",
    "    cat_histogram[i] = len(ann_per_cat)\n",
    "    class_names.append(info['name'])\n",
    "    \n",
    "# Initialize the matplotlib figure\n",
    "_, ax = plt.subplots(figsize=(5,1*dataset.num_classes))\n",
    "\n",
    "# Convert to DataFrame\n",
    "d ={'Categories': class_names, 'Number of annotations': cat_histogram}\n",
    "df = pd.DataFrame(d)\n",
    "df = df.sort_values('Number of annotations', 0, False)\n",
    "print(df)"
   ]
  },
  {
   "cell_type": "code",
   "execution_count": null,
   "id": "d58d7cea",
   "metadata": {},
   "outputs": [],
   "source": []
  }
 ],
 "metadata": {
  "kernelspec": {
   "display_name": "Python 3 (ipykernel)",
   "language": "python",
   "name": "python3"
  },
  "language_info": {
   "codemirror_mode": {
    "name": "ipython",
    "version": 3
   },
   "file_extension": ".py",
   "mimetype": "text/x-python",
   "name": "python",
   "nbconvert_exporter": "python",
   "pygments_lexer": "ipython3",
   "version": "3.10.7"
  }
 },
 "nbformat": 4,
 "nbformat_minor": 5
}
