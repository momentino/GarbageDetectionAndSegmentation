{
 "cells": [
  {
   "cell_type": "code",
   "execution_count": 1,
   "id": "1e025bc4",
   "metadata": {},
   "outputs": [
    {
     "name": "stdout",
     "output_type": "stream",
     "text": [
      "['/home/momentino/GarbageDetectionAndSegmentation/notebooks', '/usr/lib64/python310.zip', '/usr/lib64/python3.10', '/usr/lib64/python3.10/lib-dynload', '', '/home/momentino/.local/lib/python3.10/site-packages', '/usr/lib64/python3.10/site-packages', '/usr/lib/python3.10/site-packages']\n"
     ]
    }
   ],
   "source": [
    "import sys\n",
    "\n",
    "print(sys.path)\n",
    "sys.path.append(\"/home/momentino/GarbageDetectionAndSegmentation\")"
   ]
  },
  {
   "cell_type": "code",
   "execution_count": 2,
   "id": "e786658d",
   "metadata": {},
   "outputs": [
    {
     "name": "stdout",
     "output_type": "stream",
     "text": [
      "Defaulting to user installation because normal site-packages is not writeable\n",
      "Requirement already satisfied: sklearn in /home/momentino/.local/lib/python3.10/site-packages (0.0)\n",
      "Requirement already satisfied: scikit-learn in /home/momentino/.local/lib/python3.10/site-packages (from sklearn) (1.2.0)\n",
      "Requirement already satisfied: threadpoolctl>=2.0.0 in /home/momentino/.local/lib/python3.10/site-packages (from scikit-learn->sklearn) (3.1.0)\n",
      "Requirement already satisfied: scipy>=1.3.2 in /usr/lib64/python3.10/site-packages (from scikit-learn->sklearn) (1.8.1)\n",
      "Requirement already satisfied: numpy>=1.17.3 in /usr/lib64/python3.10/site-packages (from scikit-learn->sklearn) (1.22.0)\n",
      "Requirement already satisfied: joblib>=1.1.1 in /home/momentino/.local/lib/python3.10/site-packages (from scikit-learn->sklearn) (1.2.0)\n"
     ]
    }
   ],
   "source": [
    "!pip install sklearn"
   ]
  },
  {
   "cell_type": "code",
   "execution_count": 3,
   "id": "1f9243e1",
   "metadata": {},
   "outputs": [
    {
     "name": "stdout",
     "output_type": "stream",
     "text": [
      "Defaulting to user installation because normal site-packages is not writeable\n",
      "Requirement already satisfied: scikit-image in /home/momentino/.local/lib/python3.10/site-packages (0.19.3)\n",
      "Requirement already satisfied: PyWavelets>=1.1.1 in /home/momentino/.local/lib/python3.10/site-packages (from scikit-image) (1.4.1)\n",
      "Requirement already satisfied: networkx>=2.2 in /home/momentino/.local/lib/python3.10/site-packages (from scikit-image) (2.8.8)\n",
      "Requirement already satisfied: pillow!=7.1.0,!=7.1.1,!=8.3.0,>=6.1.0 in /usr/lib64/python3.10/site-packages (from scikit-image) (9.1.0)\n",
      "Requirement already satisfied: tifffile>=2019.7.26 in /home/momentino/.local/lib/python3.10/site-packages (from scikit-image) (2022.10.10)\n",
      "Requirement already satisfied: numpy>=1.17.0 in /usr/lib64/python3.10/site-packages (from scikit-image) (1.22.0)\n",
      "Requirement already satisfied: scipy>=1.4.1 in /usr/lib64/python3.10/site-packages (from scikit-image) (1.8.1)\n",
      "Requirement already satisfied: packaging>=20.0 in /usr/lib/python3.10/site-packages (from scikit-image) (21.3)\n",
      "Requirement already satisfied: imageio>=2.4.1 in /home/momentino/.local/lib/python3.10/site-packages (from scikit-image) (2.22.4)\n",
      "Requirement already satisfied: pyparsing!=3.0.5,>=2.0.2 in /usr/lib/python3.10/site-packages (from packaging>=20.0->scikit-image) (2.4.7)\n"
     ]
    }
   ],
   "source": [
    "!pip install scikit-image"
   ]
  },
  {
   "cell_type": "code",
   "execution_count": 4,
   "id": "b400da5e",
   "metadata": {},
   "outputs": [],
   "source": [
    "from sklearn.svm import LinearSVC\n",
    "from sklearn.preprocessing import StandardScaler\n",
    "from sklearn.model_selection import train_test_split\n",
    "from skimage.feature import hog\n",
    "from imageio import imread\n",
    "import joblib\n",
    "\n",
    "import random as rand\n",
    "import numpy as np \n",
    "import cv2\n",
    "import glob\n",
    "import time\n",
    "\n",
    "import matplotlib.pyplot as plt\n",
    "%matplotlib inline\n",
    "\n",
    "from utils import convert, show_images\n",
    "from featuresourcer import CannyFeatureExtractor"
   ]
  },
  {
   "cell_type": "code",
   "execution_count": 5,
   "id": "be5e2650",
   "metadata": {},
   "outputs": [
    {
     "name": "stderr",
     "output_type": "stream",
     "text": [
      "/tmp/ipykernel_28121/2347638959.py:7: DeprecationWarning: Starting with ImageIO v3 the behavior of this function will switch to that of iio.v3.imread. To keep the current behavior (and make this warning disappear) use `import imageio.v2 as imageio` or call `imageio.v2.imread` directly.\n",
      "  start_frame = imread(\"/home/momentino/Scaricati/archive/garbage classification/Garbage classification/cardboard/cardboard4.jpg\")\n"
     ]
    }
   ],
   "source": [
    "sourcer_params = {\n",
    "  'color_model': 'hls',                # hls, hsv, yuv, ycrcb\n",
    "  'first_thresh': 10,             #\n",
    "  'second_thresh' : 200,\n",
    "}\n",
    "\n",
    "start_frame = imread(\"/home/momentino/Scaricati/archive/garbage classification/Garbage classification/cardboard/cardboard4.jpg\")\n",
    "sourcer = CannyFeatureExtractor(sourcer_params, start_frame)"
   ]
  },
  {
   "cell_type": "code",
   "execution_count": 6,
   "id": "0f1db03d",
   "metadata": {},
   "outputs": [
    {
     "name": "stderr",
     "output_type": "stream",
     "text": [
      "/tmp/ipykernel_28121/471062377.py:8: DeprecationWarning: Starting with ImageIO v3 the behavior of this function will switch to that of iio.v3.imread. To keep the current behavior (and make this warning disappear) use `import imageio.v2 as imageio` or call `imageio.v2.imread` directly.\n",
      "  for path in garbage_paths: garbage_imgs.append(imread(path))\n"
     ]
    },
    {
     "name": "stdout",
     "output_type": "stream",
     "text": [
      "Loading images to memory...\n"
     ]
    },
    {
     "name": "stderr",
     "output_type": "stream",
     "text": [
      "/tmp/ipykernel_28121/471062377.py:9: DeprecationWarning: Starting with ImageIO v3 the behavior of this function will switch to that of iio.v3.imread. To keep the current behavior (and make this warning disappear) use `import imageio.v2 as imageio` or call `imageio.v2.imread` directly.\n",
      "  for path in nongarbage_paths: nongarbage_imgs.append(imread(path))\n"
     ]
    },
    {
     "name": "stdout",
     "output_type": "stream",
     "text": [
      "... Done\n",
      "Time Taken: 1.17\n",
      "Garbage images shape:  (2275, 48, 64, 3)\n",
      "Non-garbage images shape:  (1068, 48, 64, 3)\n",
      "Extracting features... This might take a while...\n",
      "Garbage...\n",
      "███████████████████████████████████████████████████████████████████████████████████████████████████████████████████████████████████████████████████████████████████████████████████████████████████████████████████████████████████████████████████████████████████████████████████████████████████████████████████████████████████████████████████████████████████████████████████████████████████████████████████████████████████████████████████████████████████████████████████████████████████████████████████████████████████████████████████████████████████████████████████████████████████████████████████████████████████████████████████████████████████████████████████████████████████████████████████████████████████████████████████████████████████████████████████████████████████████████████████████████████████████████████████████████████████████████████████████████████████████████████████████████████████████████████████████████████████████████████████████████████████████████████████████████████████████████████████████████████████████████████████████████████████████████████████████████████████████████████████████████████████████████████████████████████████████████████████████████████████████████████████████████████████████████████████████████████████████████████████████████████████████████████████████████████████████████████████████████████████████████████████████████████████████████████████████████████████████████████████████████████████████████████████████████████████████████████████████████████████████████████████████████████████████████████████████████████████████████████████████████████████████████████████████████████████████████████████████████████████████████████████████████████████████████████████████████████████████████████████████████████████████████████████████████████████████████████████████████████████████████████████████████████████████████████████████████████████████████████████████████████████████████████████████████████████████████████████████████████████████████████████████████████████████████████████████████████████████████████████████████████████████████████████████████████████████████████████████████████████████████████████████████████████████████████████████████████████████████████████████████████████████████████████████████████████\n",
      "Non-Garbage...\n",
      "████████████████████████████████████████████████████████████████████████████████████████████████████████████████████████████████████████████████████████████████████████████████████████████████████████████████████████████████████████████████████████████████████████████████████████████████████████████████████████████████████████████████████████████████████████████████████████████████████████████████████████████████████████████████████████████████████████████████████████████████████████████████████████████████████████████████████████████████████████████████████████████████████████████████████████████████████████████████████████████████████████████████████████████████████████████████████████████████████████████████████████████████████████████████████████████████████████████████████████████████████████████████████████████████████████████████████████████████████████████████████████████████████████████████████████████████████████████████████████████████████████████████████████████████████████████████████████████████████████████████████████████████████████████\n",
      "...Done\n",
      "Time Taken: 1.27\n",
      "Garbage features shape:  (2275, 7)\n",
      "Non-Garbage features shape:  (1068, 7)\n",
      "Scaling features...\n",
      " GARBAGE SHAPE  float64\n",
      " NONGARBAGE SHAPE  float64\n",
      "...Done\n",
      "Time Taken: 0.0\n",
      " x shape:  (3343, 7)  y shape:  (3343,)\n",
      "Training classifier...\n",
      "...Done\n",
      "Time Taken: 0.1\n",
      "Accuracy:  0.6487\n"
     ]
    },
    {
     "name": "stderr",
     "output_type": "stream",
     "text": [
      "/home/momentino/.local/lib/python3.10/site-packages/sklearn/svm/_base.py:1244: ConvergenceWarning: Liblinear failed to converge, increase the number of iterations.\n",
      "  warnings.warn(\n"
     ]
    }
   ],
   "source": [
    "print(\"Loading images to memory...\")\n",
    "t_start = time.time()\n",
    "\n",
    "garbage_imgs, nongarbage_imgs = [], []\n",
    "garbage_paths = glob.glob('/home/momentino/Scaricati/archive/garbage classification/Garbage classification/*/*.jpg')\n",
    "nongarbage_paths = glob.glob('/home/momentino/Scaricati/archive/garbage classification/negative/*.jpg')\n",
    "\n",
    "for path in garbage_paths: garbage_imgs.append(imread(path))\n",
    "for path in nongarbage_paths: nongarbage_imgs.append(imread(path))\n",
    "\n",
    "garbage_imgs, nongarbage_imgs = np.asarray(garbage_imgs), np.asarray(nongarbage_imgs)\n",
    "total_garbage, total_nongarbage = garbage_imgs.shape[0], nongarbage_imgs.shape[0]\n",
    "\n",
    "print(\"... Done\")\n",
    "print(\"Time Taken:\", np.round(time.time() - t_start, 2))\n",
    "print(\"Garbage images shape: \", garbage_imgs.shape)\n",
    "print(\"Non-garbage images shape: \", nongarbage_imgs.shape)\n",
    "\n",
    "print(\"Extracting features... This might take a while...\")\n",
    "t_start = time.time()\n",
    "\n",
    "garbage_features, nongarbage_features = [], []\n",
    "\n",
    "print(\"Garbage...\")\n",
    "for i,img in enumerate(garbage_imgs):\n",
    "  #print(garbage_paths[i])\n",
    "  garbage_features.append(sourcer.features(img))\n",
    "  print('█', end = '')\n",
    "\n",
    "print()\n",
    "print(\"Non-Garbage...\")\n",
    "for img in nongarbage_imgs:\n",
    "  nongarbage_features.append(sourcer.features(img))\n",
    "  print('█', end = '')\n",
    "                         \n",
    "garbage_features = np.asarray(garbage_features)\n",
    "nongarbage_features = np.asarray(nongarbage_features)\n",
    "\n",
    "print()\n",
    "print(\"...Done\")\n",
    "print(\"Time Taken:\", np.round(time.time() - t_start, 2))\n",
    "print(\"Garbage features shape: \", garbage_features.shape)\n",
    "print(\"Non-Garbage features shape: \", nongarbage_features.shape)\n",
    "\n",
    "print(\"Scaling features...\")\n",
    "t_start = time.time()\n",
    "print(\" GARBAGE SHAPE \",garbage_features.dtype)\n",
    "print(\" NONGARBAGE SHAPE \", nongarbage_features.dtype)\n",
    "unscaled_x = np.vstack((garbage_features, nongarbage_features)).astype(np.float64)\n",
    "scaler = StandardScaler().fit(unscaled_x)\n",
    "x = scaler.transform(unscaled_x)\n",
    "y = np.hstack((np.ones(total_garbage), np.zeros(total_nongarbage)))\n",
    "\n",
    "print(\"...Done\")\n",
    "print(\"Time Taken:\", np.round(time.time() - t_start, 2))\n",
    "print(\" x shape: \", x.shape, \" y shape: \", y.shape)\n",
    "\n",
    "print(\"Training classifier...\")\n",
    "t_start = time.time()\n",
    "\n",
    "x_train, x_test, y_train, y_test = train_test_split(x, y, test_size = 0.2,\n",
    "                                                    random_state = rand.randint(1, 100))\n",
    "svc = LinearSVC()\n",
    "svc.fit(x_train, y_train)\n",
    "accuracy = svc.score(x_test, y_test)\n",
    "\n",
    "print(\"...Done\")\n",
    "print(\"Time Taken:\", np.round(time.time() - t_start, 2))\n",
    "print(\"Accuracy: \", np.round(accuracy, 4))"
   ]
  },
  {
   "cell_type": "code",
   "execution_count": 7,
   "id": "b0a40213",
   "metadata": {},
   "outputs": [
    {
     "name": "stdout",
     "output_type": "stream",
     "text": [
      "Saving models...\n",
      "...Done\n"
     ]
    }
   ],
   "source": [
    "print (\"Saving models...\")\n",
    "\n",
    "joblib.dump(svc, 'svc.pkl')\n",
    "joblib.dump(scaler, 'scaler.pkl')\n",
    "\n",
    "print(\"...Done\")"
   ]
  },
  {
   "cell_type": "code",
   "execution_count": 8,
   "id": "79739585",
   "metadata": {},
   "outputs": [
    {
     "name": "stdout",
     "output_type": "stream",
     "text": [
      "Loading models...\n",
      "...Done\n"
     ]
    }
   ],
   "source": [
    "print (\"Loading models...\")\n",
    "\n",
    "svc = joblib.load('svc.pkl')\n",
    "scaler = joblib.load('scaler.pkl')\n",
    "\n",
    "print(\"...Done\")"
   ]
  },
  {
   "cell_type": "code",
   "execution_count": 9,
   "id": "d717354c",
   "metadata": {},
   "outputs": [
    {
     "ename": "NameError",
     "evalue": "name 'FeatureSourcer' is not defined",
     "output_type": "error",
     "traceback": [
      "\u001b[0;31m---------------------------------------------------------------------------\u001b[0m",
      "\u001b[0;31mNameError\u001b[0m                                 Traceback (most recent call last)",
      "Cell \u001b[0;32mIn[9], line 1\u001b[0m\n\u001b[0;32m----> 1\u001b[0m sourcer \u001b[38;5;241m=\u001b[39m \u001b[43mFeatureSourcer\u001b[49m(sourcer_params, start_frame)\n\u001b[1;32m      3\u001b[0m f1 \u001b[38;5;241m=\u001b[39m sourcer\u001b[38;5;241m.\u001b[39mfeatures(nongarbage_imgs[rand\u001b[38;5;241m.\u001b[39mrandint(\u001b[38;5;241m0\u001b[39m, total_nongarbage)])\n\u001b[1;32m      4\u001b[0m f2 \u001b[38;5;241m=\u001b[39m sourcer\u001b[38;5;241m.\u001b[39mfeatures(garbage_imgs[rand\u001b[38;5;241m.\u001b[39mrandint(\u001b[38;5;241m0\u001b[39m, total_garbage)])\n",
      "\u001b[0;31mNameError\u001b[0m: name 'FeatureSourcer' is not defined"
     ]
    }
   ],
   "source": [
    "sourcer = FeatureSourcer(sourcer_params, start_frame)\n",
    "\n",
    "f1 = sourcer.features(nongarbage_imgs[rand.randint(0, total_nongarbage)])\n",
    "f2 = sourcer.features(garbage_imgs[rand.randint(0, total_garbage)])\n",
    "f3 = sourcer.features(garbage_imgs[rand.randint(0, total_garbage)])\n",
    "f4 = sourcer.features(nongarbage_imgs[rand.randint(0, total_nongarbage)])\n",
    "\n",
    "f = scaler.transform([f1, f2, f3, f4])\n",
    "print(svc.predict(f))"
   ]
  }
 ],
 "metadata": {
  "kernelspec": {
   "display_name": "Python 3 (ipykernel)",
   "language": "python",
   "name": "python3"
  },
  "language_info": {
   "codemirror_mode": {
    "name": "ipython",
    "version": 3
   },
   "file_extension": ".py",
   "mimetype": "text/x-python",
   "name": "python",
   "nbconvert_exporter": "python",
   "pygments_lexer": "ipython3",
   "version": "3.10.7"
  }
 },
 "nbformat": 4,
 "nbformat_minor": 5
}
