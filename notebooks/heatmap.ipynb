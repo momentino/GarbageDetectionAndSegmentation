{
 "cells": [
  {
   "cell_type": "code",
   "execution_count": 1,
   "id": "91076618",
   "metadata": {},
   "outputs": [
    {
     "name": "stdout",
     "output_type": "stream",
     "text": [
      "['/home/filippo/GarbageDetectionAndSegmentation/notebooks', '/home/filippo/anaconda3/envs/siv_regular/lib/python310.zip', '/home/filippo/anaconda3/envs/siv_regular/lib/python3.10', '/home/filippo/anaconda3/envs/siv_regular/lib/python3.10/lib-dynload', '', '/home/filippo/.local/lib/python3.10/site-packages', '/home/filippo/anaconda3/envs/siv_regular/lib/python3.10/site-packages']\n"
     ]
    }
   ],
   "source": [
    "import sys\n",
    "import os\n",
    "\n",
    "print(sys.path)\n",
    "sys.path.append(\"../\")"
   ]
  },
  {
   "cell_type": "code",
   "execution_count": 2,
   "id": "6e66ab1a",
   "metadata": {},
   "outputs": [],
   "source": [
    "import imageio.v3 as iio\n",
    "import joblib\n",
    "\n",
    "import random as rand\n",
    "import numpy as np \n",
    "import cv2\n",
    "import glob\n",
    "import time\n",
    "\n",
    "import matplotlib.pyplot as plt\n",
    "%matplotlib inline\n",
    "\n",
    "from utils import convert, show_images, put_boxes, box_boundaries\n",
    "from featuresourcer import HogFeatureExtractor, CannyFeatureExtractor\n",
    "from binaryclassifier import BinaryClassifier\n",
    "from slider import Slider\n",
    "from heatmap import HeatMap "
   ]
  },
  {
   "cell_type": "code",
   "execution_count": 3,
   "id": "160c941a",
   "metadata": {},
   "outputs": [],
   "source": [
    "features = \"hog\""
   ]
  },
  {
   "cell_type": "code",
   "execution_count": 4,
   "id": "d6635e78",
   "metadata": {},
   "outputs": [],
   "source": [
    "if features == \"canny\":\n",
    "    svc = joblib.load('../saved_models/canny_svc.pkl')\n",
    "    scaler = joblib.load('../saved_models/canny_scaler.pkl')\n",
    "    sourcer_params = {\n",
    "      'color_model': 'hls',                # hls, hsv, yuv, ycrcb\n",
    "      'bounding_box_w': 64,             #\n",
    "      'bounding_box_h' : 48,\n",
    "      'first_thresh': 10,             #\n",
    "      'second_thresh' : 200,\n",
    "    }\n",
    "elif features == \"hog\":\n",
    "    svc = joblib.load('../saved_models/hog_svc.pkl')\n",
    "    scaler = joblib.load('../saved_models/hog_scaler.pkl')\n",
    "    sourcer_params = {\n",
    "      'color_model': 'hls',                # hls, hsv, yuv, ycrcb\n",
    "      'bounding_box_w': 64,             #\n",
    "      'bounding_box_h' : 48,\n",
    "      'number_of_orientations': 12,        # 6 - 12\n",
    "      'pixels_per_cell': 8,               # 8, 16\n",
    "      'cells_per_block': 2,                # 1, 2\n",
    "      'do_transform_sqrt': True\n",
    "    }"
   ]
  },
  {
   "cell_type": "code",
   "execution_count": 5,
   "id": "70bea44a",
   "metadata": {},
   "outputs": [],
   "source": [
    "def heatmap_test(image, this_heatmap):\n",
    "  this_heatmap.reset()\n",
    "\n",
    "  bounding_boxes = slider.locate(image = image)\n",
    "  this_heatmap.update(bounding_boxes)\n",
    "  this_heatmap.show(image)"
   ]
  },
  {
   "cell_type": "code",
   "execution_count": 6,
   "id": "c321c3dc",
   "metadata": {},
   "outputs": [],
   "source": [
    "cls = BinaryClassifier(svc, scaler)"
   ]
  },
  {
   "cell_type": "code",
   "execution_count": 7,
   "id": "6d56acf2",
   "metadata": {},
   "outputs": [
    {
     "ename": "KeyboardInterrupt",
     "evalue": "",
     "output_type": "error",
     "traceback": [
      "\u001b[0;31m---------------------------------------------------------------------------\u001b[0m",
      "\u001b[0;31mKeyboardInterrupt\u001b[0m                         Traceback (most recent call last)",
      "Cell \u001b[0;32mIn[7], line 11\u001b[0m\n\u001b[1;32m      9\u001b[0m     src \u001b[38;5;241m=\u001b[39m CannyFeatureExtractor(sourcer_params, iio\u001b[38;5;241m.\u001b[39mimread(img_path))\n\u001b[1;32m     10\u001b[0m \u001b[38;5;28;01melif\u001b[39;00m(features \u001b[38;5;241m==\u001b[39m \u001b[38;5;124m\"\u001b[39m\u001b[38;5;124mhog\u001b[39m\u001b[38;5;124m\"\u001b[39m):\n\u001b[0;32m---> 11\u001b[0m     src \u001b[38;5;241m=\u001b[39m \u001b[43mHogFeatureExtractor\u001b[49m\u001b[43m(\u001b[49m\u001b[43msourcer_params\u001b[49m\u001b[43m,\u001b[49m\u001b[43m \u001b[49m\u001b[43miio\u001b[49m\u001b[38;5;241;43m.\u001b[39;49m\u001b[43mimread\u001b[49m\u001b[43m(\u001b[49m\u001b[43mimg_path\u001b[49m\u001b[43m)\u001b[49m\u001b[43m)\u001b[49m\n\u001b[1;32m     13\u001b[0m slider \u001b[38;5;241m=\u001b[39m Slider(sourcer \u001b[38;5;241m=\u001b[39m src, classifier \u001b[38;5;241m=\u001b[39m \u001b[38;5;28mcls\u001b[39m, increment \u001b[38;5;241m=\u001b[39m \u001b[38;5;241m32\u001b[39m)\n\u001b[1;32m     15\u001b[0m img1 \u001b[38;5;241m=\u001b[39m iio\u001b[38;5;241m.\u001b[39mimread(img_path)\n",
      "File \u001b[0;32m~/GarbageDetectionAndSegmentation/notebooks/../featuresourcer.py:24\u001b[0m, in \u001b[0;36mHogFeatureExtractor.__init__\u001b[0;34m(self, p, start_frame)\u001b[0m\n\u001b[1;32m     21\u001b[0m \u001b[38;5;28mself\u001b[39m\u001b[38;5;241m.\u001b[39mhogA_img, \u001b[38;5;28mself\u001b[39m\u001b[38;5;241m.\u001b[39mhogB_img, \u001b[38;5;28mself\u001b[39m\u001b[38;5;241m.\u001b[39mhogC_img \u001b[38;5;241m=\u001b[39m \u001b[38;5;28;01mNone\u001b[39;00m, \u001b[38;5;28;01mNone\u001b[39;00m, \u001b[38;5;28;01mNone\u001b[39;00m\n\u001b[1;32m     23\u001b[0m \u001b[38;5;28mself\u001b[39m\u001b[38;5;241m.\u001b[39mRGB_img \u001b[38;5;241m=\u001b[39m start_frame\n\u001b[0;32m---> 24\u001b[0m \u001b[38;5;28;43mself\u001b[39;49m\u001b[38;5;241;43m.\u001b[39;49m\u001b[43mnew_frame\u001b[49m\u001b[43m(\u001b[49m\u001b[38;5;28;43mself\u001b[39;49m\u001b[38;5;241;43m.\u001b[39;49m\u001b[43mRGB_img\u001b[49m\u001b[43m)\u001b[49m\n",
      "File \u001b[0;32m~/GarbageDetectionAndSegmentation/notebooks/../featuresourcer.py:42\u001b[0m, in \u001b[0;36mHogFeatureExtractor.new_frame\u001b[0;34m(self, frame)\u001b[0m\n\u001b[1;32m     39\u001b[0m \u001b[38;5;28mself\u001b[39m\u001b[38;5;241m.\u001b[39mABC_img \u001b[38;5;241m=\u001b[39m convert(frame, src_model\u001b[38;5;241m=\u001b[39m \u001b[38;5;124m'\u001b[39m\u001b[38;5;124mrgb\u001b[39m\u001b[38;5;124m'\u001b[39m, dest_model \u001b[38;5;241m=\u001b[39m \u001b[38;5;28mself\u001b[39m\u001b[38;5;241m.\u001b[39mcolor_model)\n\u001b[1;32m     40\u001b[0m \u001b[38;5;28mself\u001b[39m\u001b[38;5;241m.\u001b[39mdims \u001b[38;5;241m=\u001b[39m \u001b[38;5;28mself\u001b[39m\u001b[38;5;241m.\u001b[39mRGB_img\u001b[38;5;241m.\u001b[39mshape\n\u001b[0;32m---> 42\u001b[0m \u001b[38;5;28mself\u001b[39m\u001b[38;5;241m.\u001b[39mhogA, \u001b[38;5;28mself\u001b[39m\u001b[38;5;241m.\u001b[39mhogA_img \u001b[38;5;241m=\u001b[39m \u001b[38;5;28;43mself\u001b[39;49m\u001b[38;5;241;43m.\u001b[39;49m\u001b[43mhog\u001b[49m\u001b[43m(\u001b[49m\u001b[38;5;28;43mself\u001b[39;49m\u001b[38;5;241;43m.\u001b[39;49m\u001b[43mABC_img\u001b[49m\u001b[43m[\u001b[49m\u001b[43m:\u001b[49m\u001b[43m,\u001b[49m\u001b[43m \u001b[49m\u001b[43m:\u001b[49m\u001b[43m,\u001b[49m\u001b[43m \u001b[49m\u001b[38;5;241;43m0\u001b[39;49m\u001b[43m]\u001b[49m\u001b[43m)\u001b[49m\n\u001b[1;32m     43\u001b[0m \u001b[38;5;28mself\u001b[39m\u001b[38;5;241m.\u001b[39mhogB, \u001b[38;5;28mself\u001b[39m\u001b[38;5;241m.\u001b[39mhogB_img \u001b[38;5;241m=\u001b[39m \u001b[38;5;28mself\u001b[39m\u001b[38;5;241m.\u001b[39mhog(\u001b[38;5;28mself\u001b[39m\u001b[38;5;241m.\u001b[39mABC_img[:, :, \u001b[38;5;241m1\u001b[39m])\n\u001b[1;32m     44\u001b[0m \u001b[38;5;28mself\u001b[39m\u001b[38;5;241m.\u001b[39mhogC, \u001b[38;5;28mself\u001b[39m\u001b[38;5;241m.\u001b[39mhogC_img \u001b[38;5;241m=\u001b[39m \u001b[38;5;28mself\u001b[39m\u001b[38;5;241m.\u001b[39mhog(\u001b[38;5;28mself\u001b[39m\u001b[38;5;241m.\u001b[39mABC_img[:, :, \u001b[38;5;241m2\u001b[39m])\n",
      "File \u001b[0;32m~/GarbageDetectionAndSegmentation/notebooks/../featuresourcer.py:27\u001b[0m, in \u001b[0;36mHogFeatureExtractor.hog\u001b[0;34m(self, channel)\u001b[0m\n\u001b[1;32m     26\u001b[0m \u001b[38;5;28;01mdef\u001b[39;00m \u001b[38;5;21mhog\u001b[39m(\u001b[38;5;28mself\u001b[39m, channel):\n\u001b[0;32m---> 27\u001b[0m   features, hog_img \u001b[38;5;241m=\u001b[39m \u001b[43mhog\u001b[49m\u001b[43m(\u001b[49m\u001b[43mchannel\u001b[49m\u001b[43m,\u001b[49m\u001b[43m \u001b[49m\n\u001b[1;32m     28\u001b[0m \u001b[43m                          \u001b[49m\u001b[43morientations\u001b[49m\u001b[43m \u001b[49m\u001b[38;5;241;43m=\u001b[39;49m\u001b[43m \u001b[49m\u001b[38;5;28;43mself\u001b[39;49m\u001b[38;5;241;43m.\u001b[39;49m\u001b[43mori\u001b[49m\u001b[43m,\u001b[49m\u001b[43m \u001b[49m\n\u001b[1;32m     29\u001b[0m \u001b[43m                          \u001b[49m\u001b[43mpixels_per_cell\u001b[49m\u001b[43m \u001b[49m\u001b[38;5;241;43m=\u001b[39;49m\u001b[43m \u001b[49m\u001b[38;5;28;43mself\u001b[39;49m\u001b[38;5;241;43m.\u001b[39;49m\u001b[43mppc\u001b[49m\u001b[43m,\u001b[49m\n\u001b[1;32m     30\u001b[0m \u001b[43m                          \u001b[49m\u001b[43mcells_per_block\u001b[49m\u001b[43m \u001b[49m\u001b[38;5;241;43m=\u001b[39;49m\u001b[43m \u001b[49m\u001b[38;5;28;43mself\u001b[39;49m\u001b[38;5;241;43m.\u001b[39;49m\u001b[43mcpb\u001b[49m\u001b[43m,\u001b[49m\u001b[43m \u001b[49m\n\u001b[1;32m     31\u001b[0m \u001b[43m                          \u001b[49m\u001b[43mtransform_sqrt\u001b[49m\u001b[43m \u001b[49m\u001b[38;5;241;43m=\u001b[39;49m\u001b[43m \u001b[49m\u001b[38;5;28;43mself\u001b[39;49m\u001b[38;5;241;43m.\u001b[39;49m\u001b[43mdo_sqrt\u001b[49m\u001b[43m,\u001b[49m\u001b[43m \u001b[49m\n\u001b[1;32m     32\u001b[0m \u001b[43m                          \u001b[49m\u001b[43mvisualize\u001b[49m\u001b[43m \u001b[49m\u001b[38;5;241;43m=\u001b[39;49m\u001b[43m \u001b[49m\u001b[38;5;28;43;01mTrue\u001b[39;49;00m\u001b[43m,\u001b[49m\u001b[43m \u001b[49m\n\u001b[1;32m     33\u001b[0m \u001b[43m                          \u001b[49m\u001b[43mfeature_vector\u001b[49m\u001b[43m \u001b[49m\u001b[38;5;241;43m=\u001b[39;49m\u001b[43m \u001b[49m\u001b[38;5;28;43;01mFalse\u001b[39;49;00m\u001b[43m)\u001b[49m\n\u001b[1;32m     34\u001b[0m   \u001b[38;5;28;01mreturn\u001b[39;00m features, hog_img\n",
      "File \u001b[0;32m~/.local/lib/python3.10/site-packages/skimage/_shared/utils.py:394\u001b[0m, in \u001b[0;36mchannel_as_last_axis.__call__.<locals>.fixed_func\u001b[0;34m(*args, **kwargs)\u001b[0m\n\u001b[1;32m    391\u001b[0m channel_axis \u001b[38;5;241m=\u001b[39m kwargs\u001b[38;5;241m.\u001b[39mget(\u001b[38;5;124m'\u001b[39m\u001b[38;5;124mchannel_axis\u001b[39m\u001b[38;5;124m'\u001b[39m, \u001b[38;5;28;01mNone\u001b[39;00m)\n\u001b[1;32m    393\u001b[0m \u001b[38;5;28;01mif\u001b[39;00m channel_axis \u001b[38;5;129;01mis\u001b[39;00m \u001b[38;5;28;01mNone\u001b[39;00m:\n\u001b[0;32m--> 394\u001b[0m     \u001b[38;5;28;01mreturn\u001b[39;00m \u001b[43mfunc\u001b[49m\u001b[43m(\u001b[49m\u001b[38;5;241;43m*\u001b[39;49m\u001b[43margs\u001b[49m\u001b[43m,\u001b[49m\u001b[43m \u001b[49m\u001b[38;5;241;43m*\u001b[39;49m\u001b[38;5;241;43m*\u001b[39;49m\u001b[43mkwargs\u001b[49m\u001b[43m)\u001b[49m\n\u001b[1;32m    396\u001b[0m \u001b[38;5;66;03m# TODO: convert scalars to a tuple in anticipation of eventually\u001b[39;00m\n\u001b[1;32m    397\u001b[0m \u001b[38;5;66;03m#       supporting a tuple of channel axes. Right now, only an\u001b[39;00m\n\u001b[1;32m    398\u001b[0m \u001b[38;5;66;03m#       integer or a single-element tuple is supported, though.\u001b[39;00m\n\u001b[1;32m    399\u001b[0m \u001b[38;5;28;01mif\u001b[39;00m np\u001b[38;5;241m.\u001b[39misscalar(channel_axis):\n",
      "File \u001b[0;32m~/.local/lib/python3.10/site-packages/skimage/_shared/utils.py:348\u001b[0m, in \u001b[0;36mdeprecate_multichannel_kwarg.__call__.<locals>.fixed_func\u001b[0;34m(*args, **kwargs)\u001b[0m\n\u001b[1;32m    345\u001b[0m     kwargs[\u001b[38;5;124m'\u001b[39m\u001b[38;5;124mchannel_axis\u001b[39m\u001b[38;5;124m'\u001b[39m] \u001b[38;5;241m=\u001b[39m convert[kwargs\u001b[38;5;241m.\u001b[39mpop(\u001b[38;5;124m'\u001b[39m\u001b[38;5;124mmultichannel\u001b[39m\u001b[38;5;124m'\u001b[39m)]\n\u001b[1;32m    347\u001b[0m \u001b[38;5;66;03m# Call the function with the fixed arguments\u001b[39;00m\n\u001b[0;32m--> 348\u001b[0m \u001b[38;5;28;01mreturn\u001b[39;00m \u001b[43mfunc\u001b[49m\u001b[43m(\u001b[49m\u001b[38;5;241;43m*\u001b[39;49m\u001b[43margs\u001b[49m\u001b[43m,\u001b[49m\u001b[43m \u001b[49m\u001b[38;5;241;43m*\u001b[39;49m\u001b[38;5;241;43m*\u001b[39;49m\u001b[43mkwargs\u001b[49m\u001b[43m)\u001b[49m\n",
      "File \u001b[0;32m~/.local/lib/python3.10/site-packages/skimage/feature/_hog.py:261\u001b[0m, in \u001b[0;36mhog\u001b[0;34m(image, orientations, pixels_per_cell, cells_per_block, block_norm, visualize, transform_sqrt, feature_vector, multichannel, channel_axis)\u001b[0m\n\u001b[1;32m    258\u001b[0m             \u001b[38;5;28;01mfor\u001b[39;00m o, dr, dc \u001b[38;5;129;01min\u001b[39;00m \u001b[38;5;28mzip\u001b[39m(orientations_arr, dr_arr, dc_arr):\n\u001b[1;32m    259\u001b[0m                 centre \u001b[38;5;241m=\u001b[39m \u001b[38;5;28mtuple\u001b[39m([r \u001b[38;5;241m*\u001b[39m c_row \u001b[38;5;241m+\u001b[39m c_row \u001b[38;5;241m/\u001b[39m\u001b[38;5;241m/\u001b[39m \u001b[38;5;241m2\u001b[39m,\n\u001b[1;32m    260\u001b[0m                                 c \u001b[38;5;241m*\u001b[39m c_col \u001b[38;5;241m+\u001b[39m c_col \u001b[38;5;241m/\u001b[39m\u001b[38;5;241m/\u001b[39m \u001b[38;5;241m2\u001b[39m])\n\u001b[0;32m--> 261\u001b[0m                 rr, cc \u001b[38;5;241m=\u001b[39m \u001b[43mdraw\u001b[49m\u001b[38;5;241;43m.\u001b[39;49m\u001b[43mline\u001b[49m\u001b[43m(\u001b[49m\u001b[38;5;28;43mint\u001b[39;49m\u001b[43m(\u001b[49m\u001b[43mcentre\u001b[49m\u001b[43m[\u001b[49m\u001b[38;5;241;43m0\u001b[39;49m\u001b[43m]\u001b[49m\u001b[43m \u001b[49m\u001b[38;5;241;43m-\u001b[39;49m\u001b[43m \u001b[49m\u001b[43mdc\u001b[49m\u001b[43m)\u001b[49m\u001b[43m,\u001b[49m\n\u001b[1;32m    262\u001b[0m \u001b[43m                                   \u001b[49m\u001b[38;5;28;43mint\u001b[39;49m\u001b[43m(\u001b[49m\u001b[43mcentre\u001b[49m\u001b[43m[\u001b[49m\u001b[38;5;241;43m1\u001b[39;49m\u001b[43m]\u001b[49m\u001b[43m \u001b[49m\u001b[38;5;241;43m+\u001b[39;49m\u001b[43m \u001b[49m\u001b[43mdr\u001b[49m\u001b[43m)\u001b[49m\u001b[43m,\u001b[49m\n\u001b[1;32m    263\u001b[0m \u001b[43m                                   \u001b[49m\u001b[38;5;28;43mint\u001b[39;49m\u001b[43m(\u001b[49m\u001b[43mcentre\u001b[49m\u001b[43m[\u001b[49m\u001b[38;5;241;43m0\u001b[39;49m\u001b[43m]\u001b[49m\u001b[43m \u001b[49m\u001b[38;5;241;43m+\u001b[39;49m\u001b[43m \u001b[49m\u001b[43mdc\u001b[49m\u001b[43m)\u001b[49m\u001b[43m,\u001b[49m\n\u001b[1;32m    264\u001b[0m \u001b[43m                                   \u001b[49m\u001b[38;5;28;43mint\u001b[39;49m\u001b[43m(\u001b[49m\u001b[43mcentre\u001b[49m\u001b[43m[\u001b[49m\u001b[38;5;241;43m1\u001b[39;49m\u001b[43m]\u001b[49m\u001b[43m \u001b[49m\u001b[38;5;241;43m-\u001b[39;49m\u001b[43m \u001b[49m\u001b[43mdr\u001b[49m\u001b[43m)\u001b[49m\u001b[43m)\u001b[49m\n\u001b[1;32m    265\u001b[0m                 hog_image[rr, cc] \u001b[38;5;241m+\u001b[39m\u001b[38;5;241m=\u001b[39m orientation_histogram[r, c, o]\n\u001b[1;32m    267\u001b[0m \u001b[38;5;124;03m\"\"\"\u001b[39;00m\n\u001b[1;32m    268\u001b[0m \u001b[38;5;124;03mThe fourth stage computes normalization, which takes local groups of\u001b[39;00m\n\u001b[1;32m    269\u001b[0m \u001b[38;5;124;03mcells and contrast normalizes their overall responses before passing\u001b[39;00m\n\u001b[0;32m   (...)\u001b[0m\n\u001b[1;32m    279\u001b[0m \u001b[38;5;124;03mGradient (HOG) descriptors.\u001b[39;00m\n\u001b[1;32m    280\u001b[0m \u001b[38;5;124;03m\"\"\"\u001b[39;00m\n",
      "File \u001b[0;32m~/.local/lib/python3.10/site-packages/skimage/draw/draw.py:392\u001b[0m, in \u001b[0;36mline\u001b[0;34m(r0, c0, r1, c1)\u001b[0m\n\u001b[1;32m    353\u001b[0m \u001b[38;5;28;01mdef\u001b[39;00m \u001b[38;5;21mline\u001b[39m(r0, c0, r1, c1):\n\u001b[1;32m    354\u001b[0m     \u001b[38;5;124;03m\"\"\"Generate line pixel coordinates.\u001b[39;00m\n\u001b[1;32m    355\u001b[0m \n\u001b[1;32m    356\u001b[0m \u001b[38;5;124;03m    Parameters\u001b[39;00m\n\u001b[0;32m   (...)\u001b[0m\n\u001b[1;32m    390\u001b[0m \u001b[38;5;124;03m           [0, 0, 0, 0, 0, 0, 0, 0, 0, 0]], dtype=uint8)\u001b[39;00m\n\u001b[1;32m    391\u001b[0m \u001b[38;5;124;03m    \"\"\"\u001b[39;00m\n\u001b[0;32m--> 392\u001b[0m     \u001b[38;5;28;01mreturn\u001b[39;00m \u001b[43m_line\u001b[49m\u001b[43m(\u001b[49m\u001b[43mr0\u001b[49m\u001b[43m,\u001b[49m\u001b[43m \u001b[49m\u001b[43mc0\u001b[49m\u001b[43m,\u001b[49m\u001b[43m \u001b[49m\u001b[43mr1\u001b[49m\u001b[43m,\u001b[49m\u001b[43m \u001b[49m\u001b[43mc1\u001b[49m\u001b[43m)\u001b[49m\n",
      "\u001b[0;31mKeyboardInterrupt\u001b[0m: "
     ]
    }
   ],
   "source": [
    "path = \"../data/test\"\n",
    "subdirs = [x[0] for x in os.walk(path)]                                                                            \n",
    "for subdir in subdirs:                                                                                            \n",
    "    files = os.walk(subdir).__next__()[2]                                                                             \n",
    "    if (len(files) > 0):                                                                                          \n",
    "        for file in files:    \n",
    "            img_path = os.path.join(subdir,file)\n",
    "            if(features == \"canny\"):\n",
    "                src = CannyFeatureExtractor(sourcer_params, iio.imread(img_path))\n",
    "            elif(features == \"hog\"):\n",
    "                src = HogFeatureExtractor(sourcer_params, iio.imread(img_path))\n",
    "\n",
    "            slider = Slider(sourcer = src, classifier = cls, increment = 32)\n",
    "\n",
    "            img1 = iio.imread(img_path)\n",
    "\n",
    "            heatmap = HeatMap(frame = img1, thresh = 12, memory = 4)\n",
    "            heatmap_test(img1, heatmap)\n",
    "            break\n",
    "    #break"
   ]
  },
  {
   "cell_type": "code",
   "execution_count": null,
   "id": "d9bc144a",
   "metadata": {},
   "outputs": [],
   "source": []
  }
 ],
 "metadata": {
  "kernelspec": {
   "display_name": "Python 3 (ipykernel)",
   "language": "python",
   "name": "python3"
  },
  "language_info": {
   "codemirror_mode": {
    "name": "ipython",
    "version": 3
   },
   "file_extension": ".py",
   "mimetype": "text/x-python",
   "name": "python",
   "nbconvert_exporter": "python",
   "pygments_lexer": "ipython3",
   "version": "3.10.8"
  }
 },
 "nbformat": 4,
 "nbformat_minor": 5
}
