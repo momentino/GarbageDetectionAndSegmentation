{
 "cells": [
  {
   "cell_type": "code",
   "execution_count": 1,
   "id": "91076618",
   "metadata": {},
   "outputs": [
    {
     "name": "stdout",
     "output_type": "stream",
     "text": [
      "['/home/momentino/GarbageDetectionAndSegmentation/notebooks', '/usr/lib64/python310.zip', '/usr/lib64/python3.10', '/usr/lib64/python3.10/lib-dynload', '', '/home/momentino/.local/lib/python3.10/site-packages', '/usr/lib64/python3.10/site-packages', '/usr/lib/python3.10/site-packages']\n"
     ]
    }
   ],
   "source": [
    "import sys\n",
    "\n",
    "print(sys.path)\n",
    "sys.path.append(\"/home/momentino/GarbageDetectionAndSegmentation\")"
   ]
  },
  {
   "cell_type": "code",
   "execution_count": 2,
   "id": "6e66ab1a",
   "metadata": {},
   "outputs": [],
   "source": [
    "from imageio import imread\n",
    "import joblib\n",
    "\n",
    "import random as rand\n",
    "import numpy as np \n",
    "import cv2\n",
    "import glob\n",
    "import time\n",
    "\n",
    "import matplotlib.pyplot as plt\n",
    "%matplotlib inline\n",
    "\n",
    "from utils import convert, show_images, put_boxes, box_boundaries\n",
    "from featuresourcer import FeatureSourcer\n",
    "from binaryclassifier import BinaryClassifier\n",
    "from slider import Slider\n",
    "from heatmap import HeatMap "
   ]
  },
  {
   "cell_type": "code",
   "execution_count": 3,
   "id": "6d56acf2",
   "metadata": {},
   "outputs": [
    {
     "name": "stderr",
     "output_type": "stream",
     "text": [
      "/tmp/ipykernel_7626/2374358657.py:15: DeprecationWarning: Starting with ImageIO v3 the behavior of this function will switch to that of iio.v3.imread. To keep the current behavior (and make this warning disappear) use `import imageio.v2 as imageio` or call `imageio.v2.imread` directly.\n",
      "  src = FeatureSourcer(sourcer_params, imread(\"/home/momentino/TACO/data/batch_2/000001.JPG\"))\n",
      "/tmp/ipykernel_7626/2374358657.py:18: DeprecationWarning: Starting with ImageIO v3 the behavior of this function will switch to that of iio.v3.imread. To keep the current behavior (and make this warning disappear) use `import imageio.v2 as imageio` or call `imageio.v2.imread` directly.\n",
      "  img1 = imread(\"/home/momentino/TACO/data/batch_2/000001.JPG\")\n"
     ]
    }
   ],
   "source": [
    "svc = joblib.load('svc.pkl')\n",
    "scaler = joblib.load('scaler.pkl')\n",
    "\n",
    "sourcer_params = {\n",
    "  'color_model': 'hls',                # hls, hsv, yuv, ycrcb\n",
    "  'bounding_box_h': 48,             #\n",
    "  'bounding_box_w': 64,\n",
    "  'number_of_orientations': 12,        # 6 - 12\n",
    "  'pixels_per_cell': 8,               # 8, 16\n",
    "  'cells_per_block': 2,                # 1, 2\n",
    "  'do_transform_sqrt': True\n",
    "}\n",
    "\n",
    "cls = BinaryClassifier(svc, scaler)\n",
    "src = FeatureSourcer(sourcer_params, imread(\"/home/momentino/TACO/data/batch_2/000001.JPG\"))\n",
    "slider = Slider(sourcer = src, classifier = cls, increment = 8)\n",
    "\n",
    "img1 = imread(\"/home/momentino/TACO/data/batch_2/000001.JPG\")\n",
    "\n",
    "heatmap = HeatMap(frame = img1, thresh = 3, memory = 4)"
   ]
  },
  {
   "cell_type": "code",
   "execution_count": 4,
   "id": "70bea44a",
   "metadata": {},
   "outputs": [],
   "source": [
    "def heatmap_test(image, this_heatmap):\n",
    "  this_heatmap.reset()\n",
    "\n",
    "  bounding_boxes = slider.locate(image = image)\n",
    "  this_heatmap.update(bounding_boxes)\n",
    "\n",
    "  this_heatmap.show(image)"
   ]
  },
  {
   "cell_type": "code",
   "execution_count": 5,
   "id": "409c1d9e",
   "metadata": {},
   "outputs": [
    {
     "name": "stdout",
     "output_type": "stream",
     "text": [
      "iteration  0\n",
      "image dim (3264, 2448, 3)\n",
      "STEP SIZE  32\n"
     ]
    },
    {
     "ename": "AttributeError",
     "evalue": "'LinearSVC' object has no attribute 'predict_proba'",
     "output_type": "error",
     "traceback": [
      "\u001b[0;31m---------------------------------------------------------------------------\u001b[0m",
      "\u001b[0;31mAttributeError\u001b[0m                            Traceback (most recent call last)",
      "Cell \u001b[0;32mIn[5], line 1\u001b[0m\n\u001b[0;32m----> 1\u001b[0m \u001b[43mheatmap_test\u001b[49m\u001b[43m(\u001b[49m\u001b[43mimg1\u001b[49m\u001b[43m,\u001b[49m\u001b[43m \u001b[49m\u001b[43mheatmap\u001b[49m\u001b[43m)\u001b[49m\n",
      "Cell \u001b[0;32mIn[4], line 4\u001b[0m, in \u001b[0;36mheatmap_test\u001b[0;34m(image, this_heatmap)\u001b[0m\n\u001b[1;32m      1\u001b[0m \u001b[38;5;28;01mdef\u001b[39;00m \u001b[38;5;21mheatmap_test\u001b[39m(image, this_heatmap):\n\u001b[1;32m      2\u001b[0m   this_heatmap\u001b[38;5;241m.\u001b[39mreset()\n\u001b[0;32m----> 4\u001b[0m   bounding_boxes \u001b[38;5;241m=\u001b[39m \u001b[43mslider\u001b[49m\u001b[38;5;241;43m.\u001b[39;49m\u001b[43mlocate\u001b[49m\u001b[43m(\u001b[49m\u001b[43mimage\u001b[49m\u001b[43m \u001b[49m\u001b[38;5;241;43m=\u001b[39;49m\u001b[43m \u001b[49m\u001b[43mimage\u001b[49m\u001b[43m)\u001b[49m\n\u001b[1;32m      5\u001b[0m   this_heatmap\u001b[38;5;241m.\u001b[39mupdate(bounding_boxes)\n\u001b[1;32m      7\u001b[0m   this_heatmap\u001b[38;5;241m.\u001b[39mshow(image)\n",
      "File \u001b[0;32m~/GarbageDetectionAndSegmentation/slider.py:115\u001b[0m, in \u001b[0;36mSlider.locate\u001b[0;34m(self, image)\u001b[0m\n\u001b[1;32m    111\u001b[0m \u001b[38;5;66;03m#print(features[:100])\u001b[39;00m\n\u001b[1;32m    112\u001b[0m \u001b[38;5;66;03m#print(\" FEATURE SHAPE \", features.shape)\u001b[39;00m\n\u001b[1;32m    113\u001b[0m \u001b[38;5;66;03m#print(self.classifier.predict(features))\u001b[39;00m\n\u001b[1;32m    114\u001b[0m \u001b[38;5;28;01mif\u001b[39;00m \u001b[38;5;28mself\u001b[39m\u001b[38;5;241m.\u001b[39mclassifier\u001b[38;5;241m.\u001b[39mpredict(features): \n\u001b[0;32m--> 115\u001b[0m   \u001b[38;5;28mprint\u001b[39m(\u001b[38;5;28;43mself\u001b[39;49m\u001b[38;5;241;43m.\u001b[39;49m\u001b[43mclassifier\u001b[49m\u001b[38;5;241;43m.\u001b[39;49m\u001b[43mpredict_proba\u001b[49m\u001b[43m(\u001b[49m\u001b[43mfeatures\u001b[49m\u001b[43m)\u001b[49m)\n\u001b[1;32m    116\u001b[0m   \u001b[38;5;28;01mif\u001b[39;00m(iteration\u001b[38;5;241m==\u001b[39m\u001b[38;5;241m5\u001b[39m):\n\u001b[1;32m    117\u001b[0m       boxes\u001b[38;5;241m.\u001b[39mappend((\u001b[38;5;28mint\u001b[39m(x\u001b[38;5;241m*\u001b[39mmath\u001b[38;5;241m.\u001b[39mpow(scale,iteration)), \u001b[38;5;28mint\u001b[39m(y\u001b[38;5;241m*\u001b[39mmath\u001b[38;5;241m.\u001b[39mpow(scale,iteration)), (\u001b[38;5;28mint\u001b[39m(w_w\u001b[38;5;241m*\u001b[39mmath\u001b[38;5;241m.\u001b[39mpow(scale,iteration)),\u001b[38;5;28mint\u001b[39m(w_h\u001b[38;5;241m*\u001b[39mmath\u001b[38;5;241m.\u001b[39mpow(scale,iteration)))))\n",
      "File \u001b[0;32m~/GarbageDetectionAndSegmentation/binaryclassifier.py:18\u001b[0m, in \u001b[0;36mBinaryClassifier.predict_proba\u001b[0;34m(self, f)\u001b[0m\n\u001b[1;32m     16\u001b[0m \u001b[38;5;28;01mdef\u001b[39;00m \u001b[38;5;21mpredict_proba\u001b[39m(\u001b[38;5;28mself\u001b[39m,f):\n\u001b[1;32m     17\u001b[0m   f \u001b[38;5;241m=\u001b[39m \u001b[38;5;28mself\u001b[39m\u001b[38;5;241m.\u001b[39mscaler\u001b[38;5;241m.\u001b[39mtransform([f])\n\u001b[0;32m---> 18\u001b[0m   r \u001b[38;5;241m=\u001b[39m \u001b[38;5;28;43mself\u001b[39;49m\u001b[38;5;241;43m.\u001b[39;49m\u001b[43msvc\u001b[49m\u001b[38;5;241;43m.\u001b[39;49m\u001b[43mpredict_proba\u001b[49m(f)\n\u001b[1;32m     19\u001b[0m   \u001b[38;5;28;01mreturn\u001b[39;00m np\u001b[38;5;241m.\u001b[39mint(r[\u001b[38;5;241m0\u001b[39m])\n",
      "\u001b[0;31mAttributeError\u001b[0m: 'LinearSVC' object has no attribute 'predict_proba'"
     ]
    }
   ],
   "source": [
    "heatmap_test(img1, heatmap)"
   ]
  }
 ],
 "metadata": {
  "kernelspec": {
   "display_name": "Python 3 (ipykernel)",
   "language": "python",
   "name": "python3"
  },
  "language_info": {
   "codemirror_mode": {
    "name": "ipython",
    "version": 3
   },
   "file_extension": ".py",
   "mimetype": "text/x-python",
   "name": "python",
   "nbconvert_exporter": "python",
   "pygments_lexer": "ipython3",
   "version": "3.10.7"
  }
 },
 "nbformat": 4,
 "nbformat_minor": 5
}
